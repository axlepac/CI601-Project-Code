{
 "cells": [
  {
   "cell_type": "code",
   "execution_count": 1,
   "id": "81ca69fe",
   "metadata": {},
   "outputs": [
    {
     "name": "stdout",
     "output_type": "stream",
     "text": [
      "Table size: (14337, 4)\n"
     ]
    },
    {
     "data": {
      "text/html": [
       "<div>\n",
       "<style scoped>\n",
       "    .dataframe tbody tr th:only-of-type {\n",
       "        vertical-align: middle;\n",
       "    }\n",
       "\n",
       "    .dataframe tbody tr th {\n",
       "        vertical-align: top;\n",
       "    }\n",
       "\n",
       "    .dataframe thead th {\n",
       "        text-align: right;\n",
       "    }\n",
       "</style>\n",
       "<table border=\"1\" class=\"dataframe\">\n",
       "  <thead>\n",
       "    <tr style=\"text-align: right;\">\n",
       "      <th></th>\n",
       "      <th>ReviewTitle</th>\n",
       "      <th>body</th>\n",
       "      <th>rating</th>\n",
       "      <th>Product</th>\n",
       "    </tr>\n",
       "  </thead>\n",
       "  <tbody>\n",
       "    <tr>\n",
       "      <th>0</th>\n",
       "      <td>Honest review of an edm music lover\\n</td>\n",
       "      <td>No doubt it has a great bass and to a great ex...</td>\n",
       "      <td>3</td>\n",
       "      <td>boAt Rockerz 255</td>\n",
       "    </tr>\n",
       "    <tr>\n",
       "      <th>1</th>\n",
       "      <td>Unreliable earphones with high cost\\n</td>\n",
       "      <td>This  earphones are unreliable, i bought it be...</td>\n",
       "      <td>1</td>\n",
       "      <td>boAt Rockerz 255</td>\n",
       "    </tr>\n",
       "    <tr>\n",
       "      <th>2</th>\n",
       "      <td>Really good and durable.\\n</td>\n",
       "      <td>i bought itfor 999,I purchased it second time,...</td>\n",
       "      <td>4</td>\n",
       "      <td>boAt Rockerz 255</td>\n",
       "    </tr>\n",
       "    <tr>\n",
       "      <th>3</th>\n",
       "      <td>stopped working in just 14 days\\n</td>\n",
       "      <td>Its sound quality is adorable. overall it was ...</td>\n",
       "      <td>1</td>\n",
       "      <td>boAt Rockerz 255</td>\n",
       "    </tr>\n",
       "    <tr>\n",
       "      <th>4</th>\n",
       "      <td>Just Awesome Wireless Headphone under 1000...😉\\n</td>\n",
       "      <td>Its Awesome... Good sound quality &amp; 8-9 hrs ba...</td>\n",
       "      <td>5</td>\n",
       "      <td>boAt Rockerz 255</td>\n",
       "    </tr>\n",
       "    <tr>\n",
       "      <th>5</th>\n",
       "      <td>Charging port not working\\n</td>\n",
       "      <td>After 11 days, the charging port isn't working...</td>\n",
       "      <td>1</td>\n",
       "      <td>boAt Rockerz 255</td>\n",
       "    </tr>\n",
       "    <tr>\n",
       "      <th>6</th>\n",
       "      <td>Loved the color and sound !!\\n</td>\n",
       "      <td>Sound-4.5/5Build quality-4.5/5Battery life -4/...</td>\n",
       "      <td>4</td>\n",
       "      <td>boAt Rockerz 255</td>\n",
       "    </tr>\n",
       "    <tr>\n",
       "      <th>7</th>\n",
       "      <td>Great sound with worst mic.\\n</td>\n",
       "      <td>After one month usage reviewing this .Pros-1- ...</td>\n",
       "      <td>3</td>\n",
       "      <td>boAt Rockerz 255</td>\n",
       "    </tr>\n",
       "    <tr>\n",
       "      <th>8</th>\n",
       "      <td>Battery life is good enough to keep going all ...</td>\n",
       "      <td>I can’t get enough of this earphone! The bass ...</td>\n",
       "      <td>5</td>\n",
       "      <td>boAt Rockerz 255</td>\n",
       "    </tr>\n",
       "    <tr>\n",
       "      <th>9</th>\n",
       "      <td>Very very bad Durabity\\n</td>\n",
       "      <td>The product durability is 1 month..I just lost...</td>\n",
       "      <td>1</td>\n",
       "      <td>boAt Rockerz 255</td>\n",
       "    </tr>\n",
       "    <tr>\n",
       "      <th>10</th>\n",
       "      <td>Running has become comfortable now\\n</td>\n",
       "      <td>The sound quality is good. I mean it can’t be ...</td>\n",
       "      <td>4</td>\n",
       "      <td>boAt Rockerz 255</td>\n",
       "    </tr>\n",
       "    <tr>\n",
       "      <th>11</th>\n",
       "      <td>Disappointed\\n</td>\n",
       "      <td>What on earth is the use of buying such produc...</td>\n",
       "      <td>1</td>\n",
       "      <td>boAt Rockerz 255</td>\n",
       "    </tr>\n",
       "    <tr>\n",
       "      <th>12</th>\n",
       "      <td>Extremely good BT earphones!! Loud and Super B...</td>\n",
       "      <td>Hey all, I have used quite a few budget earpho...</td>\n",
       "      <td>5</td>\n",
       "      <td>boAt Rockerz 255</td>\n",
       "    </tr>\n",
       "    <tr>\n",
       "      <th>13</th>\n",
       "      <td>Product not good quality\\n</td>\n",
       "      <td>Product stopped working in a month time\\n</td>\n",
       "      <td>1</td>\n",
       "      <td>boAt Rockerz 255</td>\n",
       "    </tr>\n",
       "    <tr>\n",
       "      <th>14</th>\n",
       "      <td>Not at all expected this on 0th Day of purchase\\n</td>\n",
       "      <td>Right speaker is not working at all. Useless p...</td>\n",
       "      <td>1</td>\n",
       "      <td>boAt Rockerz 255</td>\n",
       "    </tr>\n",
       "  </tbody>\n",
       "</table>\n",
       "</div>"
      ],
      "text/plain": [
       "                                          ReviewTitle  \\\n",
       "0               Honest review of an edm music lover\\n   \n",
       "1               Unreliable earphones with high cost\\n   \n",
       "2                          Really good and durable.\\n   \n",
       "3                   stopped working in just 14 days\\n   \n",
       "4    Just Awesome Wireless Headphone under 1000...😉\\n   \n",
       "5                         Charging port not working\\n   \n",
       "6                      Loved the color and sound !!\\n   \n",
       "7                       Great sound with worst mic.\\n   \n",
       "8   Battery life is good enough to keep going all ...   \n",
       "9                            Very very bad Durabity\\n   \n",
       "10               Running has become comfortable now\\n   \n",
       "11                                     Disappointed\\n   \n",
       "12  Extremely good BT earphones!! Loud and Super B...   \n",
       "13                         Product not good quality\\n   \n",
       "14  Not at all expected this on 0th Day of purchase\\n   \n",
       "\n",
       "                                                 body  rating  \\\n",
       "0   No doubt it has a great bass and to a great ex...       3   \n",
       "1   This  earphones are unreliable, i bought it be...       1   \n",
       "2   i bought itfor 999,I purchased it second time,...       4   \n",
       "3   Its sound quality is adorable. overall it was ...       1   \n",
       "4   Its Awesome... Good sound quality & 8-9 hrs ba...       5   \n",
       "5   After 11 days, the charging port isn't working...       1   \n",
       "6   Sound-4.5/5Build quality-4.5/5Battery life -4/...       4   \n",
       "7   After one month usage reviewing this .Pros-1- ...       3   \n",
       "8   I can’t get enough of this earphone! The bass ...       5   \n",
       "9   The product durability is 1 month..I just lost...       1   \n",
       "10  The sound quality is good. I mean it can’t be ...       4   \n",
       "11  What on earth is the use of buying such produc...       1   \n",
       "12  Hey all, I have used quite a few budget earpho...       5   \n",
       "13          Product stopped working in a month time\\n       1   \n",
       "14  Right speaker is not working at all. Useless p...       1   \n",
       "\n",
       "             Product  \n",
       "0   boAt Rockerz 255  \n",
       "1   boAt Rockerz 255  \n",
       "2   boAt Rockerz 255  \n",
       "3   boAt Rockerz 255  \n",
       "4   boAt Rockerz 255  \n",
       "5   boAt Rockerz 255  \n",
       "6   boAt Rockerz 255  \n",
       "7   boAt Rockerz 255  \n",
       "8   boAt Rockerz 255  \n",
       "9   boAt Rockerz 255  \n",
       "10  boAt Rockerz 255  \n",
       "11  boAt Rockerz 255  \n",
       "12  boAt Rockerz 255  \n",
       "13  boAt Rockerz 255  \n",
       "14  boAt Rockerz 255  "
      ]
     },
     "execution_count": 1,
     "metadata": {},
     "output_type": "execute_result"
    }
   ],
   "source": [
    "##Commented download links. Uncomment to download data packages when running in fresh enviroment\n",
    "##nltk.download('stopwords')\n",
    "##nltk.download('averaged_perceptron_tagger')\n",
    "##nltk.download('wordnet')\n",
    "##nltk.download('words')\n",
    "##Import data ingress and processing packages\n",
    "import string\n",
    "import pandas as pd\n",
    "import matplotlib.pyplot as plt\n",
    "import nltk\n",
    "from nltk.corpus import wordnet as wn\n",
    "from nltk import pos_tag\n",
    "from nltk.corpus import stopwords\n",
    "from nltk.stem import WordNetLemmatizer\n",
    "from nltk.tokenize import WhitespaceTokenizer\n",
    "from nltk.corpus import words\n",
    "\n",
    "\n",
    "## Read csv: Uncomment one of the 3 datasets to select.\n",
    "table=pd.read_csv(\"ENTER LOCATION OF DOWNLOADED CSV ON LOCAL MACHINE")\n",
    "##table=pd.read_csv(\"ENTER LOCATION OF DOWNLOADED CSV ON LOCAL MACHINE")\n",
    "##table=pd.read_csv(\"ENTER LOCATION OF DOWNLOADED CSV ON LOCAL MACHINE")\n",
    "\n",
    "\n",
    "## Display the size of the dataframe and the first 15 rows\n",
    "tableSize = table.shape\n",
    "print('Table size:',tableSize)\n",
    "table.head(n=15)"
   ]
  },
  {
   "cell_type": "code",
   "execution_count": 2,
   "id": "c3e0d548",
   "metadata": {},
   "outputs": [
    {
     "name": "stdout",
     "output_type": "stream",
     "text": [
      "Table size: (14337, 2)\n"
     ]
    }
   ],
   "source": [
    "## Remove unneeded data \n",
    "table=table[['rating','body']]\n",
    "tableSize = table.shape\n",
    "print('Table size:',tableSize)"
   ]
  },
  {
   "cell_type": "code",
   "execution_count": 3,
   "id": "fb4d2b47",
   "metadata": {},
   "outputs": [
    {
     "data": {
      "text/plain": [
       "rating    0\n",
       "body      0\n",
       "dtype: int64"
      ]
     },
     "execution_count": 3,
     "metadata": {},
     "output_type": "execute_result"
    }
   ],
   "source": [
    "## Checking for null values\n",
    "table.isnull().sum()"
   ]
  },
  {
   "cell_type": "code",
   "execution_count": 4,
   "id": "e5c278db",
   "metadata": {},
   "outputs": [
    {
     "name": "stdout",
     "output_type": "stream",
     "text": [
      "Table size: (14337, 2)\n"
     ]
    }
   ],
   "source": [
    "## Remove null values\n",
    "table=table.dropna()\n",
    "table.isnull().sum()\n",
    "tableSize = table.shape\n",
    "print('Table size:',tableSize)"
   ]
  },
  {
   "cell_type": "code",
   "execution_count": 5,
   "id": "56aefc00",
   "metadata": {},
   "outputs": [
    {
     "name": "stdout",
     "output_type": "stream",
     "text": [
      "Table size: (14322, 2)\n"
     ]
    },
    {
     "data": {
      "text/html": [
       "<div>\n",
       "<style scoped>\n",
       "    .dataframe tbody tr th:only-of-type {\n",
       "        vertical-align: middle;\n",
       "    }\n",
       "\n",
       "    .dataframe tbody tr th {\n",
       "        vertical-align: top;\n",
       "    }\n",
       "\n",
       "    .dataframe thead th {\n",
       "        text-align: right;\n",
       "    }\n",
       "</style>\n",
       "<table border=\"1\" class=\"dataframe\">\n",
       "  <thead>\n",
       "    <tr style=\"text-align: right;\">\n",
       "      <th></th>\n",
       "      <th>rating</th>\n",
       "      <th>body</th>\n",
       "    </tr>\n",
       "  </thead>\n",
       "  <tbody>\n",
       "    <tr>\n",
       "      <th>0</th>\n",
       "      <td>3</td>\n",
       "      <td>No doubt it has a great bass and to a great ex...</td>\n",
       "    </tr>\n",
       "    <tr>\n",
       "      <th>1</th>\n",
       "      <td>1</td>\n",
       "      <td>This  earphones are unreliable, i bought it be...</td>\n",
       "    </tr>\n",
       "    <tr>\n",
       "      <th>2</th>\n",
       "      <td>4</td>\n",
       "      <td>i bought itfor 999,I purchased it second time,...</td>\n",
       "    </tr>\n",
       "    <tr>\n",
       "      <th>3</th>\n",
       "      <td>1</td>\n",
       "      <td>Its sound quality is adorable. overall it was ...</td>\n",
       "    </tr>\n",
       "    <tr>\n",
       "      <th>4</th>\n",
       "      <td>5</td>\n",
       "      <td>Its Awesome... Good sound quality &amp; 8-9 hrs ba...</td>\n",
       "    </tr>\n",
       "    <tr>\n",
       "      <th>5</th>\n",
       "      <td>1</td>\n",
       "      <td>After 11 days, the charging port isn't working...</td>\n",
       "    </tr>\n",
       "    <tr>\n",
       "      <th>6</th>\n",
       "      <td>4</td>\n",
       "      <td>Sound-4.5/5Build quality-4.5/5Battery life -4/...</td>\n",
       "    </tr>\n",
       "    <tr>\n",
       "      <th>7</th>\n",
       "      <td>3</td>\n",
       "      <td>After one month usage reviewing this .Pros-1- ...</td>\n",
       "    </tr>\n",
       "    <tr>\n",
       "      <th>8</th>\n",
       "      <td>5</td>\n",
       "      <td>I can’t get enough of this earphone! The bass ...</td>\n",
       "    </tr>\n",
       "    <tr>\n",
       "      <th>9</th>\n",
       "      <td>1</td>\n",
       "      <td>The product durability is 1 month..I just lost...</td>\n",
       "    </tr>\n",
       "    <tr>\n",
       "      <th>10</th>\n",
       "      <td>4</td>\n",
       "      <td>The sound quality is good. I mean it can’t be ...</td>\n",
       "    </tr>\n",
       "    <tr>\n",
       "      <th>11</th>\n",
       "      <td>1</td>\n",
       "      <td>What on earth is the use of buying such produc...</td>\n",
       "    </tr>\n",
       "    <tr>\n",
       "      <th>12</th>\n",
       "      <td>5</td>\n",
       "      <td>Hey all, I have used quite a few budget earpho...</td>\n",
       "    </tr>\n",
       "    <tr>\n",
       "      <th>13</th>\n",
       "      <td>1</td>\n",
       "      <td>Product stopped working in a month time\\n</td>\n",
       "    </tr>\n",
       "    <tr>\n",
       "      <th>14</th>\n",
       "      <td>1</td>\n",
       "      <td>Right speaker is not working at all. Useless p...</td>\n",
       "    </tr>\n",
       "  </tbody>\n",
       "</table>\n",
       "</div>"
      ],
      "text/plain": [
       "    rating                                               body\n",
       "0        3  No doubt it has a great bass and to a great ex...\n",
       "1        1  This  earphones are unreliable, i bought it be...\n",
       "2        4  i bought itfor 999,I purchased it second time,...\n",
       "3        1  Its sound quality is adorable. overall it was ...\n",
       "4        5  Its Awesome... Good sound quality & 8-9 hrs ba...\n",
       "5        1  After 11 days, the charging port isn't working...\n",
       "6        4  Sound-4.5/5Build quality-4.5/5Battery life -4/...\n",
       "7        3  After one month usage reviewing this .Pros-1- ...\n",
       "8        5  I can’t get enough of this earphone! The bass ...\n",
       "9        1  The product durability is 1 month..I just lost...\n",
       "10       4  The sound quality is good. I mean it can’t be ...\n",
       "11       1  What on earth is the use of buying such produc...\n",
       "12       5  Hey all, I have used quite a few budget earpho...\n",
       "13       1          Product stopped working in a month time\\n\n",
       "14       1  Right speaker is not working at all. Useless p..."
      ]
     },
     "execution_count": 5,
     "metadata": {},
     "output_type": "execute_result"
    }
   ],
   "source": [
    "## Remove non english rows\n",
    "Word = list(set(words.words()))\n",
    "table = table[table['body'].str.contains('|'.join(Word))]\n",
    "tableSize = table.shape\n",
    "print('Table size:',tableSize)\n",
    "table.head(n=15)\n"
   ]
  },
  {
   "cell_type": "code",
   "execution_count": 6,
   "id": "dd070f9f",
   "metadata": {},
   "outputs": [
    {
     "data": {
      "text/plain": [
       "5    6204\n",
       "4    3184\n",
       "1    2493\n",
       "3    1502\n",
       "2     939\n",
       "Name: rating, dtype: int64"
      ]
     },
     "execution_count": 6,
     "metadata": {},
     "output_type": "execute_result"
    }
   ],
   "source": [
    "## Display number of ratings in each catagory\n",
    "table.rating.value_counts()"
   ]
  },
  {
   "cell_type": "code",
   "execution_count": 7,
   "id": "4d73d19d",
   "metadata": {},
   "outputs": [
    {
     "data": {
      "text/plain": [
       "<AxesSubplot:xlabel='rating', ylabel='count'>"
      ]
     },
     "execution_count": 7,
     "metadata": {},
     "output_type": "execute_result"
    },
    {
     "data": {
      "image/png": "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\n",
      "text/plain": [
       "<Figure size 432x288 with 1 Axes>"
      ]
     },
     "metadata": {
      "needs_background": "light"
     },
     "output_type": "display_data"
    }
   ],
   "source": [
    "import seaborn as sns\n",
    "## Remove sns warning as y parameter not passed\n",
    "import warnings\n",
    "warnings.simplefilter(action=\"ignore\", category=FutureWarning)\n",
    "## Create bar chart of ratings\n",
    "sns.countplot(table['rating'])"
   ]
  },
  {
   "cell_type": "code",
   "execution_count": 8,
   "id": "592858a9",
   "metadata": {},
   "outputs": [
    {
     "data": {
      "text/html": [
       "<div>\n",
       "<style scoped>\n",
       "    .dataframe tbody tr th:only-of-type {\n",
       "        vertical-align: middle;\n",
       "    }\n",
       "\n",
       "    .dataframe tbody tr th {\n",
       "        vertical-align: top;\n",
       "    }\n",
       "\n",
       "    .dataframe thead th {\n",
       "        text-align: right;\n",
       "    }\n",
       "</style>\n",
       "<table border=\"1\" class=\"dataframe\">\n",
       "  <thead>\n",
       "    <tr style=\"text-align: right;\">\n",
       "      <th></th>\n",
       "      <th>rating</th>\n",
       "      <th>body</th>\n",
       "      <th>badSentiment</th>\n",
       "    </tr>\n",
       "  </thead>\n",
       "  <tbody>\n",
       "    <tr>\n",
       "      <th>0</th>\n",
       "      <td>3</td>\n",
       "      <td>No doubt it has a great bass and to a great ex...</td>\n",
       "      <td>0</td>\n",
       "    </tr>\n",
       "    <tr>\n",
       "      <th>1</th>\n",
       "      <td>1</td>\n",
       "      <td>This  earphones are unreliable, i bought it be...</td>\n",
       "      <td>1</td>\n",
       "    </tr>\n",
       "    <tr>\n",
       "      <th>2</th>\n",
       "      <td>4</td>\n",
       "      <td>i bought itfor 999,I purchased it second time,...</td>\n",
       "      <td>0</td>\n",
       "    </tr>\n",
       "    <tr>\n",
       "      <th>3</th>\n",
       "      <td>1</td>\n",
       "      <td>Its sound quality is adorable. overall it was ...</td>\n",
       "      <td>1</td>\n",
       "    </tr>\n",
       "    <tr>\n",
       "      <th>4</th>\n",
       "      <td>5</td>\n",
       "      <td>Its Awesome... Good sound quality &amp; 8-9 hrs ba...</td>\n",
       "      <td>0</td>\n",
       "    </tr>\n",
       "    <tr>\n",
       "      <th>5</th>\n",
       "      <td>1</td>\n",
       "      <td>After 11 days, the charging port isn't working...</td>\n",
       "      <td>1</td>\n",
       "    </tr>\n",
       "    <tr>\n",
       "      <th>6</th>\n",
       "      <td>4</td>\n",
       "      <td>Sound-4.5/5Build quality-4.5/5Battery life -4/...</td>\n",
       "      <td>0</td>\n",
       "    </tr>\n",
       "    <tr>\n",
       "      <th>7</th>\n",
       "      <td>3</td>\n",
       "      <td>After one month usage reviewing this .Pros-1- ...</td>\n",
       "      <td>0</td>\n",
       "    </tr>\n",
       "    <tr>\n",
       "      <th>8</th>\n",
       "      <td>5</td>\n",
       "      <td>I can’t get enough of this earphone! The bass ...</td>\n",
       "      <td>0</td>\n",
       "    </tr>\n",
       "    <tr>\n",
       "      <th>9</th>\n",
       "      <td>1</td>\n",
       "      <td>The product durability is 1 month..I just lost...</td>\n",
       "      <td>1</td>\n",
       "    </tr>\n",
       "    <tr>\n",
       "      <th>10</th>\n",
       "      <td>4</td>\n",
       "      <td>The sound quality is good. I mean it can’t be ...</td>\n",
       "      <td>0</td>\n",
       "    </tr>\n",
       "    <tr>\n",
       "      <th>11</th>\n",
       "      <td>1</td>\n",
       "      <td>What on earth is the use of buying such produc...</td>\n",
       "      <td>1</td>\n",
       "    </tr>\n",
       "    <tr>\n",
       "      <th>12</th>\n",
       "      <td>5</td>\n",
       "      <td>Hey all, I have used quite a few budget earpho...</td>\n",
       "      <td>0</td>\n",
       "    </tr>\n",
       "    <tr>\n",
       "      <th>13</th>\n",
       "      <td>1</td>\n",
       "      <td>Product stopped working in a month time\\n</td>\n",
       "      <td>1</td>\n",
       "    </tr>\n",
       "    <tr>\n",
       "      <th>14</th>\n",
       "      <td>1</td>\n",
       "      <td>Right speaker is not working at all. Useless p...</td>\n",
       "      <td>1</td>\n",
       "    </tr>\n",
       "  </tbody>\n",
       "</table>\n",
       "</div>"
      ],
      "text/plain": [
       "    rating                                               body  badSentiment\n",
       "0        3  No doubt it has a great bass and to a great ex...             0\n",
       "1        1  This  earphones are unreliable, i bought it be...             1\n",
       "2        4  i bought itfor 999,I purchased it second time,...             0\n",
       "3        1  Its sound quality is adorable. overall it was ...             1\n",
       "4        5  Its Awesome... Good sound quality & 8-9 hrs ba...             0\n",
       "5        1  After 11 days, the charging port isn't working...             1\n",
       "6        4  Sound-4.5/5Build quality-4.5/5Battery life -4/...             0\n",
       "7        3  After one month usage reviewing this .Pros-1- ...             0\n",
       "8        5  I can’t get enough of this earphone! The bass ...             0\n",
       "9        1  The product durability is 1 month..I just lost...             1\n",
       "10       4  The sound quality is good. I mean it can’t be ...             0\n",
       "11       1  What on earth is the use of buying such produc...             1\n",
       "12       5  Hey all, I have used quite a few budget earpho...             0\n",
       "13       1          Product stopped working in a month time\\n             1\n",
       "14       1  Right speaker is not working at all. Useless p...             1"
      ]
     },
     "execution_count": 8,
     "metadata": {},
     "output_type": "execute_result"
    }
   ],
   "source": [
    "## Adding sentiment indicator\n",
    "table['badSentiment'] = table['rating'].apply(lambda x: 1 if x < 3 else 0)\n",
    "##table = table[[\"body\",\"badSentiment\"]]\n",
    "table.head(n=15)"
   ]
  },
  {
   "cell_type": "code",
   "execution_count": 9,
   "id": "8cc77298",
   "metadata": {},
   "outputs": [
    {
     "name": "stdout",
     "output_type": "stream",
     "text": [
      "Table size:  (14322, 3)\n"
     ]
    },
    {
     "data": {
      "text/html": [
       "<div>\n",
       "<style scoped>\n",
       "    .dataframe tbody tr th:only-of-type {\n",
       "        vertical-align: middle;\n",
       "    }\n",
       "\n",
       "    .dataframe tbody tr th {\n",
       "        vertical-align: top;\n",
       "    }\n",
       "\n",
       "    .dataframe thead th {\n",
       "        text-align: right;\n",
       "    }\n",
       "</style>\n",
       "<table border=\"1\" class=\"dataframe\">\n",
       "  <thead>\n",
       "    <tr style=\"text-align: right;\">\n",
       "      <th></th>\n",
       "      <th>rating</th>\n",
       "      <th>body</th>\n",
       "      <th>badSentiment</th>\n",
       "    </tr>\n",
       "  </thead>\n",
       "  <tbody>\n",
       "    <tr>\n",
       "      <th>0</th>\n",
       "      <td>3</td>\n",
       "      <td>doubt great bass great extent noise cancellati...</td>\n",
       "      <td>0</td>\n",
       "    </tr>\n",
       "    <tr>\n",
       "      <th>1</th>\n",
       "      <td>1</td>\n",
       "      <td>earphone unreliable buy day meanwhile right si...</td>\n",
       "      <td>1</td>\n",
       "    </tr>\n",
       "    <tr>\n",
       "      <th>2</th>\n",
       "      <td>4</td>\n",
       "      <td>buy itfor purchase second time gift first one ...</td>\n",
       "      <td>0</td>\n",
       "    </tr>\n",
       "    <tr>\n",
       "      <th>3</th>\n",
       "      <td>1</td>\n",
       "      <td>sound quality adorable overall good week stop ...</td>\n",
       "      <td>1</td>\n",
       "    </tr>\n",
       "    <tr>\n",
       "      <th>4</th>\n",
       "      <td>5</td>\n",
       "      <td>awesome good sound quality hr battery life waw...</td>\n",
       "      <td>0</td>\n",
       "    </tr>\n",
       "    <tr>\n",
       "      <th>5</th>\n",
       "      <td>1</td>\n",
       "      <td>day charge port work can't even return wat kno...</td>\n",
       "      <td>1</td>\n",
       "    </tr>\n",
       "    <tr>\n",
       "      <th>6</th>\n",
       "      <td>4</td>\n",
       "      <td>life quality good strong magnetic lock strap g...</td>\n",
       "      <td>0</td>\n",
       "    </tr>\n",
       "    <tr>\n",
       "      <th>7</th>\n",
       "      <td>3</td>\n",
       "      <td>one month usage review sound bad mic can't use...</td>\n",
       "      <td>0</td>\n",
       "    </tr>\n",
       "    <tr>\n",
       "      <th>8</th>\n",
       "      <td>5</td>\n",
       "      <td>can’t get enough earphone bass amaze perfect m...</td>\n",
       "      <td>0</td>\n",
       "    </tr>\n",
       "    <tr>\n",
       "      <th>9</th>\n",
       "      <td>1</td>\n",
       "      <td>product durability month..i lose bill detail c...</td>\n",
       "      <td>1</td>\n",
       "    </tr>\n",
       "    <tr>\n",
       "      <th>10</th>\n",
       "      <td>4</td>\n",
       "      <td>sound quality good mean can’t compare senheise...</td>\n",
       "      <td>0</td>\n",
       "    </tr>\n",
       "    <tr>\n",
       "      <th>11</th>\n",
       "      <td>1</td>\n",
       "      <td>earth use buy product stop work one month....y...</td>\n",
       "      <td>1</td>\n",
       "    </tr>\n",
       "    <tr>\n",
       "      <th>12</th>\n",
       "      <td>5</td>\n",
       "      <td>hey use quite budget earphone senn piston jbl ...</td>\n",
       "      <td>0</td>\n",
       "    </tr>\n",
       "    <tr>\n",
       "      <th>13</th>\n",
       "      <td>1</td>\n",
       "      <td>product stop work month time\\n</td>\n",
       "      <td>1</td>\n",
       "    </tr>\n",
       "    <tr>\n",
       "      <th>14</th>\n",
       "      <td>1</td>\n",
       "      <td>right speaker work useless product.big disappo...</td>\n",
       "      <td>1</td>\n",
       "    </tr>\n",
       "  </tbody>\n",
       "</table>\n",
       "</div>"
      ],
      "text/plain": [
       "    rating                                               body  badSentiment\n",
       "0        3  doubt great bass great extent noise cancellati...             0\n",
       "1        1  earphone unreliable buy day meanwhile right si...             1\n",
       "2        4  buy itfor purchase second time gift first one ...             0\n",
       "3        1  sound quality adorable overall good week stop ...             1\n",
       "4        5  awesome good sound quality hr battery life waw...             0\n",
       "5        1  day charge port work can't even return wat kno...             1\n",
       "6        4  life quality good strong magnetic lock strap g...             0\n",
       "7        3  one month usage review sound bad mic can't use...             0\n",
       "8        5  can’t get enough earphone bass amaze perfect m...             0\n",
       "9        1  product durability month..i lose bill detail c...             1\n",
       "10       4  sound quality good mean can’t compare senheise...             0\n",
       "11       1  earth use buy product stop work one month....y...             1\n",
       "12       5  hey use quite budget earphone senn piston jbl ...             0\n",
       "13       1                     product stop work month time\\n             1\n",
       "14       1  right speaker work useless product.big disappo...             1"
      ]
     },
     "execution_count": 9,
     "metadata": {},
     "output_type": "execute_result"
    }
   ],
   "source": [
    "## Identify types of words in review\n",
    "def get_wordnet_pos(pos_tag):\n",
    "    if pos_tag.startswith('J'):\n",
    "        return wn.ADJ\n",
    "    elif pos_tag.startswith('V'):\n",
    "        return wn.VERB\n",
    "    elif pos_tag.startswith('N'):\n",
    "        return wn.NOUN\n",
    "    elif pos_tag.startswith('R'):\n",
    "        return wn.ADV\n",
    "    else:\n",
    "        return wn.NOUN\n",
    "\n",
    "## Clean the review text\n",
    "def clean_text(T):\n",
    "    ## Lower text\n",
    "    T = T.lower()\n",
    "    ## Tokenize text and remove puncutation\n",
    "    T = [word.strip(string.punctuation) for word in T.split(\" \")]\n",
    "    ## Remove words that contain numbers\n",
    "    T = [word for word in T if not any(c.isdigit() for c in word)]\n",
    "    ## Remove stop words\n",
    "    stop = stopwords.words('english')\n",
    "    T = [x for x in T if x not in stop]\n",
    "    ## Remove empty tokens\n",
    "    T = [t for t in T if len(t) > 0]\n",
    "    ## pos_tag text\n",
    "    pos_tags = pos_tag(T)\n",
    "    ## Lemmatize text\n",
    "    T = [WordNetLemmatizer().lemmatize(t[0], get_wordnet_pos(t[1])) for t in pos_tags]\n",
    "    ## Remove words with only one letter\n",
    "    T = [t for t in T if len(t) > 1]\n",
    "    ## Join all\n",
    "    text = \" \".join(T)\n",
    "    return(text)\n",
    "\n",
    "## Use functions to clean review text\n",
    "table[\"body\"] = table[\"body\"].apply(lambda x: clean_text(x))\n",
    "print(\"Table size: \", table.shape)\n",
    "table.head(n=15)"
   ]
  },
  {
   "cell_type": "code",
   "execution_count": 10,
   "id": "3786a270",
   "metadata": {},
   "outputs": [
    {
     "name": "stdout",
     "output_type": "stream",
     "text": [
      "[[ 347   21   27   19   85]\n",
      " [  91    6   21   22   48]\n",
      " [  61   15   40   85   99]\n",
      " [  41   10   57  171  358]\n",
      " [  44    3   27  131 1036]]\n",
      "              precision    recall  f1-score   support\n",
      "\n",
      "           1       0.59      0.70      0.64       499\n",
      "           2       0.11      0.03      0.05       188\n",
      "           3       0.23      0.13      0.17       300\n",
      "           4       0.40      0.27      0.32       637\n",
      "           5       0.64      0.83      0.72      1241\n",
      "\n",
      "    accuracy                           0.56      2865\n",
      "   macro avg       0.39      0.39      0.38      2865\n",
      "weighted avg       0.50      0.56      0.52      2865\n",
      "\n"
     ]
    },
    {
     "data": {
      "image/png": "iVBORw0KGgoAAAANSUhEUgAAATUAAAEGCAYAAAAE8QIHAAAAOXRFWHRTb2Z0d2FyZQBNYXRwbG90bGliIHZlcnNpb24zLjQuMywgaHR0cHM6Ly9tYXRwbG90bGliLm9yZy/MnkTPAAAACXBIWXMAAAsTAAALEwEAmpwYAABCm0lEQVR4nO3deXhU1fnA8e87kz1k30nYd9mUfRFEUHGtVGtda3/uqFhrtRbX1mptbWu1FSt1q1utFUFFRUBZRQFZRNkhBAgkZJnsC9lm3t8fMySZJCQTmcnm+TzPfZiZe+65b4aZd865yzmiqhiGYXQVlvYOwDAMw5tMUjMMo0sxSc0wjC7FJDXDMLoUk9QMw+hS/No7gPqioi2alNKhQjqpA6Xx7R1CqwTY2juC1rGUHm/vEDwn0t4ReOy4o5QqrTilgGeeHap5+XaPym75rnKZqp5/KvtrrQ6VQZJS/Hj744T2DsMjs9be0d4htErvNzrPFw8gcN3O9g7Bc/7+7R2BxzaULj7lOmz5djYuS/GorH/SgdhT3mErdaikZhhGZ6DY1dHeQZyUSWqGYbSKAg467kX7JqkZhtFqDkxLzTCMLkJRqk330zCMrkIBu+l+GobRlZhjaoZhdBkK2Dvw6D4mqRmG0Wod94iauU3KMIxWUhS7h0tLROR8EdkrIqkiMvckZaaJyDYR2Skia1qq07TUDMNoFVWo9kLvU0SswPPAucBRYJOILFbVXfXKRAL/BM5X1XQRafH+RNNSMwyjlQS7h0sLxgGpqpqmqlXAO8ClDcpcAyxS1XQAVc1pqVKT1AzDaBUFHOrZ0oJk4Ei950ddr9U3EIgSkdUiskVErm+pUtP9NAyj1TxohZ0QKyKb6z1/UVVfdD1uqpKGqdAPGA3MAIKB9SKyQVX3nWyHJqkZhtEqzotvPU5qNlUdc5J1R4Ee9Z6nAJlNlLGpahlQJiJrgZHASZOa6X4ahtEqClSrxaOlBZuAASLSR0QCgKuAhmMjfQhMERE/EQkBxgO7m6vUtNQMw2gVRbB7oT2kqjUiMgdYBliBV1V1p4jMdq2fr6q7RWQp8B3Oy+NeVtUdzdXbqZPantURLP59bxx2YdyVOUy/w73lemB9OK/dOpColEoAhp+fz7l3ZwDwxauJbHwnHhTGX5XDlJuyfBpryHdFxL11FBxQfFYMBZckuq0P3VJIzKJMEEEtQu61KVQM6gZA5NJswtfkAVDVI5jsm3uhAb5tZI8dfpQ5123AYlGWrBnIfz8e6ba+R1Ih99/yBQN65fHqe6N599PhdX9LSCX33fglfVIKUOAvL09hV6p3RwoePbWQ2Y8exmJRlr4bz4L53RuUUGY/epix0wqprLDw9K/7cWBnaO1ai0X5x4c7sGUH8LubB7ltefnNx7j5wXSuHD2K4gLvDAA5ekoBsx9Kc8a7IIEFL/VoUEKZ/VAaY88qcMY7dyAHdjn//19bsYnyMisOh2C3C3dffjoAN91/kPFn51NTLRxLD+JvDwykrKRtvtIO9c6go6q6BFjS4LX5DZ7/BfiLp3X67B0QkVeBi4EcVR3m7foddnj/0T7c+tZuIhKr+MePhjH03AISBrgPA91nbAk3vrrX7bWsvcFsfCeeX3y4A6u/g5d/PoTB0wuJ61Ph7TBdwSpxbxwh4/4B1ET70/O3eykbFUFVcnBtkfKhYZSNGgIiBKSXk/T8QQ4/NRRrfhWRy3M5/KfT0AALifPS6LaxgJIpMb6JFbCIg7uvX8+v/zyT3PxQXnhsMV9t7cnhzKjaMiWlgcx7cwKTRx9utP2c6zayaXsyj82bjp/VTmBgjXfjsyh3PnaIB68fjC0rgL9/sJONn0eSnhpSW2bstCK6967gpukjGXx6KXMeP8g9l9V9DC+9IYv0A8GEdHMfljo2qZIzziwiOyPAu/E+eoAHbxiGLTuAv7+3jY0rY0g/UC/eqQXOeM8bzeCRJcz5XSr3/PT02vVzfz68UYL95stI/v2080f9xvsOcuVtR3j1r328FvfJtPKYWpvz5c/9a4DPxiZP39aN2F4VxPSsxC9AOf2SPHYuj2p5QyA7NZheZ5QSEOzA6gd9xxezY5ln234fQQfKqI4PpCY+EPwslEyIInRrkVsZDbLWjnVvqWxwE4pDkSoH2BVLpQN7pG+Hjx7cz0ZGTjjHcsOpsVtZuaEvk0alu5UpLAlm78E47Hb3j1BIUBUjBmWxZM1AAGrsVsrKA70a38CRpWQeDiLrSBA11RbWfBzNhHML3MpMOKeAFe/HAsKebWF0C7cTFVcFQGxiJePOLmTZ/+Ia1X3bw4d55U89Gp+DO5V4R5Q44z3qiveTOCbMyHOPd0Y+Kz6Id8b7bbhbvCez9csoHHbnZ2bPtjBiE5sv7z2CXS0eLe3BZy01VV0rIr19VX9xdgCR3ev+EyOSqkjf1q1RucNbu/G384cTnlDNxQ8dJnHgcRIHlbP0rz0oK/DDP8jBnlWR9BhR5qtQ8Suopiam7pe/JtqfoAPljcqFbi4kdkEG1uIaMn/VDwB7dACFFyTQ554dOAIslA8Lo3x4uM9iBYiNKiMnr66rZssPZUi/XI+2TYovoag4iPtv+YJ+PfPZdzCW598aT0WV9xJxbGIVucfq3k/bsQAGne7+/xeTWIXtWF0ytWUFEJtYRUFuALc9cphX/tST4FD3Vtr4GQXYsgI4uCcUb4pNqCI3q14s2YEMGlHiHm9CJbasen9TVgCxCZUU5AagwB9e2YEqfPq/JD591/3QBcB5l2ez5tPGSdoXnCPfdtxzjO1+TE1EbgVuBUhKtnq8XVODBDSc1Cd5WBkPfvkNgaEOdq+K5PVbB/Kb1d+S0L+Cs2dn8tJ1QwgItdN9SDkWa/uPOlA2JpKyMZEE7SkhZuExMuYOwFJWQ+jWQg49PRR7iB9J89II+zKPksm+6356cvHQyVityoDeefzjzQnsSYvnzms3cPUl3/HvhaO9GWJjDQJsaoInVWHc9AIK8/xJ3RHK8PHFtesCg+xcdWcGD/18sPdj8+ANPVm8APdePYL8nEAioqt48t87OJIWzI7NEbXlrpp9BLtdWLW4jZKaClXq+Xe1rbV7ulXVF1V1jKqOiYz2PJyIxCoKM+t+2YqOBRAe7978DgqzExjq7MoNObsQe7WFsnxnHh93ZS6//GQ7d7y7i5DIGmJ9dTwNqInyxy+vLja//Gpqok7ecqkYHIZ/TiWWkhpCdpZQHReIPdwf/ITSMZEE7fddqxIgtyCU+Ji6fcRGl2ErCGlmi3rb5oeQmx/KnjTniYG1m3ozoFdeC1u1ji0rgLikuvczNqmKvBz399N2LIDYpMq6MolV5GX7c9roEibMKOC1td8w9x+pjJxYzK//lkpSr0oSUyr55yfbeW3tN8QmVvHcRzuIij31Lp0tK4C4xHqxJFSSlxPQoEygW/cxNrGqtkx+jrOVV5QfwFefxbi18s6Zlc24afn8+b5BNJ09fcOBeLS0h3ZPat9Xj5Gl2A4FkX8kkJoqYdtHMZzW4LhKcY5/bYsufVsoqhAS5TxoXWpzJreCjAC2L43m9B/5bmLMir6hBGRX4pdbCTUOwjYUUHZGhFsZ/+yK2uZn4KFyxK44ulmpjgkg6EAZUukAVUJ2llDVPchnsQLsSYslOaGIxNgS/Kx2pk9IY/03PT3atqAohJz8UHokOo8ZjhqayeHMSK/Gt++7bnTvXUFCSgV+/g7OujifDZ+7HxPdsCKSGT+2Acrg00soK7FSkBvAa3/pyc8mj+L/pp7Bn37Rn2/Xh/OXX/Xn0N4Qrh43mv+begb/N/UMbFkB3HXJMApsp37CYN/2MLr3Pl4X70W5bFgZ7R7vymhmzMpxxjuyuDbewGA7waHOz2xgsJ1Rkws5tN/ZPR49pYArbjnKY7efRmVF27WcnCcKLB4t7aHdu5/fl9UPZv3+EC9dP9h5ScdPc0gceJz1bzlbCBOvy2H7p9GsfysBi1XxD3Jw7XP7a5v5b9w+kLICP6x+yo8fP0hIhGeTs36/YIWc63uQ/OdUUKV4agxVKcFErHQepyqaHke3TYWEfZkPVsHhb+HYHX1AhMp+oZSOjaTno7tRi1DZK4Tis307laLDYeG5Nyby1P3LsIry6doBHMqI4pKz9wDw0arBREWUM/+xxYQEV6MO4fKZO7lh7mWUVwTw3JsTePD21fhZHRzLDePPL03xbnx24YXf9eaJ1/ditSjLF8SRvj+EC6/JBmDJ2wlsWhXJ2GmFvLrqWyoqLDxzf1+vxtDqeH/fjyde3oHVCssXJpCeGsqFVx1zxvtOEpvWRDH2rAJe/WwLFcctPPPgAACiYqp55HnnoBVWK6z+OI4tXzgT+B2PHMA/wMEf/u28bGvPt2HM+23/NviLpN1OAnhC1EcjWIrIf4FpQCyQDfxWVV9pbpvTRgSomczYN8xkxj7UySYzLrLbTunD0H94iD794UCPys7q9+2WZm6T8glfnv282ld1G4bRvuxeuvjWFzpt99MwjPahCNXacVNHx43MMIwO6cSJgo7KJDXDMFpFEdP9NAyjazF3FBiG0WWo0qEv6TBJzTCMVnGeKOi4t0mZpGYYRquZEwWGYXQZinhtkEhfMEnNMIxWMy01wzC6DOe8nyapGYbRZXg0+3q7MUnNMIxWcU6RZ85+GobRRaiK6X4ahtG1mItvDcPoMpwTr5hjaoZhdBkde+TbDpXUjhyK55c339neYXhkUJZvJz/xNg3qUP/VLetEo8k6SkpaLtRBqDpaLtRSHXhvhnZf6GSfdMMw2ltHv/ez47YhDcPosBxYPFpaIiLni8heEUkVkblNrJ8mIkUiss21PNpSnaalZhhGqziHHjr17qeIWIHngXOBo8AmEVmsqrsaFP1CVS/2tF7TUjMMo9UcKh4tLRgHpKpqmqpWAe8Al55qbCapGYbRKs5ROiweLUCsiGyut9xar6pk4Ei950ddrzU0UUS+FZFPRWRoS/GZ7qdhGK3ivE3K4/aQrZl5P5tqyjWciHgr0EtVS0XkQuADYEBzOzQtNcMwWqlVLbXmHAV61HueAmTWL6Cqxapa6nq8BPAXkdjmKjVJzTCMVnMgHi0t2AQMEJE+IhIAXAUsrl9ARBJFRFyPx+HMWXnNVWq6n4ZhtIq3zn6qao2IzAGWAVbgVVXdKSKzXevnAz8BbheRGuA4cJWqNuyiujFJzTCMVvPWKB2uLuWSBq/Nr/d4HjCvNXWapGYYRquYOQoMw+hSFKgxN7QbhtGVmEEiDcPoOjy7W6DdmKRmGEarmEEiDcPockxLzUfGDj/KnOs2YLEoS9YM5L8fj3Rb3yOpkPtv+YIBvfJ49b3RvPvp8Np1oSGV3Hfjl/RJKUCBv7w8hV2p8T6LdfSYY8y+/RssFmXp0r4s+N8Qt/UpPYr51b1f079/Aa+/NpyF7w2uXXfPr75m3IRMCgsDuf3WC3wWo1u8ozK5/ebNWKzK0uX9eXeh+y13KclF3Hv3Bvr1y+f1N0ey8IPTAIiNLePXv1xPVNRxVIUly/rz4UeDm9rFqcU3pYDZD6U5388FCSx4qUeDEsrsh9IYe1YBlRUWnp47kAO7ugHw2opNlJdZcTgEu124+/LTATjzfBvXzUmnR79yfnnFSPbvCPN63ABjphUz+/FMrBbl0/9G8+68hEax3/54JuOmF1Nx3MLT9/QgdXsI/oEOnl6Uin+AYvVTvvgkkjf/muiTGJvzgx0kUkR6AG8AiYADeFFV/+6t+i3i4O7r1/PrP88kNz+UFx5bzFdbe3I4M6q2TElpIPPenMDk0YcbbT/nuo1s2p7MY/Om42e1ExhY463QGsdqcXDnnC08OHcaNlswf3/uMzau7056ekRdrCUBzP/nGUyclNFo+88+683ixf257/6NPouxUby3beLBR6djywvhH08vZcPXKaQfqRdvaSAvvDiGiROOuG3rsFt46dVRpKZFExxczXN/+5RvtiW5bXvq8Sl3PnqAB28Yhi07gL+/t42NK2NIPxBSW2bs1AK6967gpvNGM3hkCXN+l8o9Pz29dv3cnw+nuMB9dN3D+0J4/K7B/OKxVK/F2mTsT2bwwFV9sR3z57kl+9mwLIL0/UF1sU8vIblPJTdMHszgUeXc9ccM7r54ANWVwv1X9KOi3IrVT/nbB6lsWhnGnq2hPou3KYpQ4+i4Jwp8GVkNcK+qDgEmAHeKyGneqnxwPxsZOeEcyw2nxm5l5Ya+TBqV7lamsCSYvQfjsNvd/8yQoCpGDMpiyZqBzkDtVsrKA70VWiMDB+WTmRlGVlY3amqsrFnTkwkNkldRYRD79sVQY2/8X7JjezwlJb6Lr6FBA/I4diyMrOwwZ7xf9GLiePfkVVQUxL7UmEbvbX5BMKlp0QAcP+7PkaMRxMSUezW+gSNKyDwcRNbRIGqqLaz5JI4JM9zvnJkwI58VH8QDwp5vw+kWbicqrqrZeo+khZBxMKTZMqdq0BnlZB4KICs9kJpqC6s/jGTizCK3MhNnFvH5e1GAsGdrKKERdqLjqwGhotw54qyfv2L1V5q/tt53vHSblE/4LKmp6jFV3ep6XALspulhRb6X2KgycvLqfqFs+aHERXn25UmKL6GoOIj7b/mCfz3+AffeuI6ggGpvhdZIbOxxcnODa5/bckOIiTnus/2dqpiY4+Ta6r7cNtv3izchvpR+ffPZu7fZ+49bLTahitysuiRvyw4kJsE9YcUkVGLLCqgrkxVAbEIl4Ow+/eGVHfxj4Tdc8NMsr8bWkpjEanIz68V1zJ/YJPfPXmxiNbmZda1IW6Y/MYnOMhaL8s/P9vK/73byzdpu7P2mbVtpAKjXxlPziTZpQ4pIb+AMwGv9J0/GLDkZq1UZ0DuPxSsGc9sjs6io9OPqS77zVmieaadfWE+INA6utS2CoKBqHp77Bf96eTTlx708iYoH//nSRBl1fcnuvXoEd112Bo/cMpSLr81k2JiixoV9pOm4GhY6eRmHQ7jj3EFcO/o0Bp1eTq9Bbf/jeOKY2g82qYlIN2Ah8EtVLW5i/a0nBpCrrvZ8hqbcglDiY+rKx0aXYSvwrOuQmx9Cbn4oe9KcJwbWburNgF7N3vh/Smy2YOLi6j58sXHl5OUHN7NF+7LZQoiLrWv1xsaWk9+KeK1WB4/M/YJVa3rz5fqe3o8vK4C4xMq6+BIqycsJaFAmkNjEutZbbGJVbZn8HGcrryg/gK8+i2HQiLabDcp2zJ+47vXiSqomL8u/iTJ1rbfY7tXkZ7uXKSu28u36bow9u31msvrBJjUR8ceZ0P6jqouaKqOqL6rqGFUd4+/veVN6T1osyQlFJMaW4Ge1M31CGuu/8ewLVFAUQk5+KD0Snb/Qo4Zmcjgz0uN9t9a+vdF0Ty4hIbEUPz87Z52Vzob1XuuJe93e/TF0715CQoIr3imH2bAxxcOtlXvu2kD60XAWfTik5eLfw77tYXTvfZyElAr8/B2cdVEuG1ZGu5XZsDKaGbNyAGXwyGLKSqwU5AYQGGwnONR5Uigw2M6oyYUc2t92Xbi920JI7lNFQo9K/PwdTLu0kA3L3U+ibFgewTk/KXDGPqqM8mIL+Tn+RETXEBpuByAgyMGoKaUcSQ1qYi++pQh2h8WjpT348uynAK8Au1X1b96u3+Gw8NwbE3nq/mVYRfl07QAOZURxydl7APho1WCiIsqZ/9hiQoKrUYdw+cyd3DD3MsorAnjuzQk8ePtq/KwOjuWG8eeXpng7RLdYX5g3iieeXIPVoixf1pf0wxFceJHzLNuST/oTFXWcf8z7jJCQahwqzPrxPm675QLKy/35zQPrGTEih/CISt78z2LefHMYy5f29Wm8//zXGP7wu5VYLMryz/tx+EgkF56/zxnv0oFERR7nH3/7lJAQ53s760d7uO3OS+jTu4Bzph/k4KFInn/WOfjCa2+OZNMW7yVxh1144ff9eOLlHVitsHxhAumpoVx41TFnfO8ksWlNFGPPKuDVz7ZQcdzCMw86B0uNiqnmkeed83pYrbD64zi2fOE8Yz7pHBu3P5JGRHQ1j/1rF2m7Q3n45mFei/tE7M8/lMyTb6dhscLyd6I5vC+Ii35mA+CTN2P5ekUYY2cU8++v9lDpuqQDIDqhmvv+no7FAhYLrP0ogo2fh3s1Po//jg588a20MDTR969Y5EzgC2A7zks6AB50DTXSpLDwFB09YY5P4vG2QDOZsU/J3saX4XRUnWky4426gmLNP6WM1G1gop7+z+s9KvvluX/Z0sxw3j7hs0+6qq6j6UO6hmF0ctpOx8s80bl+vg3D6ADMDe2GYXQxpqVmGEaXoQp2h0lqhmF0IR357KdJaoZhtIpiup+GYXQp5kSBYRhdTHuNDuIJk9QMw2g10/00DKPLcJ797LiDRJqkZhhGq5nup2EYXUpH7n523DakYRgdkiKoera0RETOF5G9IpIqInObKTdWROwi8pOW6jRJzTCMVlMPl+aIiBV4HrgAOA24uql5TFzlngKWeRKbSWqGYbSOgjrEo6UF44BUVU1T1SrgHeDSJsrdhXOw2RxPwjNJzTCMVmtF9zP2xHD9ruXWetUkA/WnKTtKg8mZRCQZ+DEw39PYzIkCwzBarRVnP23NDBLpyfxJzwK/UVW7NDVrTRNOmtRE5LkmdlC3Z9VfeLSHVrBU2wnK7ByjiKZf4t1p33wtsKADn4NvQmD/oS0X6iAiP9vX3iF4TAqtp1yHF+/9PAr0qPc8BchsUGYM8I4rocUCF4pIjap+cLJKm2upbf5+cRqG0aUp4J2ktgkYICJ9gAzgKuAat12p9jnxWEReAz5uLqFBM0lNVV+v/1xEQlW1cw3MbxiGT3jj4ltVrRGROTjPalqBV1V1p4jMdq33+DhafS0eUxORiThnheoG9BSRkcBtqnrH99mhYRidnUdnNj3imohpSYPXmkxmqvp/ntTpydnPZ4GZQJ6r4m+BqZ5UbhhGF+WNC9V8xKOzn6p6pMGZB7tvwjEMo8PTjn2blCdJ7YiITAJURAKAXwC7fRuWYRgdWgc+me5J93M2cCfOi+IygNNdzw3D+MESD5e212JLTVVtwLVtEIthGJ2Fo70DOLkWW2oi0ldEPhKRXBHJEZEPRaRvWwRnGEYHdOI6NU+WduBJ9/Nt4F0gCegOLAD+68ugDMPo2FQ9W9qDJ0lNVPVNVa1xLW/RoQ8TGobhc53xkg4RiXY9XOUavO0dnGFeCXzSBrEZhtFRddJLOrbgTGInor+t3joFHvdVUIZhdGzSgftqzd372edk6wzD+AFTAS/dJuULHt1RICLDcA63G3TiNVV9w1dBGYbRwXXGltoJIvJbYBrOpLYE53ji6wCT1Azjh6oDJzVPzn7+BJgBZKnqDcBIINCnURmG0bF1xrOf9RxXVYeI1IhIOM7JDzrcxbejx2Zx2x3fYLEoyz7ty4J3BrutT+lRzD2/3kT//oW8/u9hLFowqE3jm9wrnblnrcMqysKdQ3hl8yi39RcN2sdNY74BoLzKn8dXTWWvLZbekQX89cLP6v6O8GLmbRjLW9tG+jTeif3Tue/8L7FalA+2DuG1dWe4rb9g+D5+fua22nj/+PEU9mfHEuBXw0s3fEiA1YHV4mDFrr78a/VYn8Za3/jB6fxy1ldYLcpHGwbz5kr3uM8btZ/rpjvjPl7pz18WTiE1M8bncY2enMdtv9mPxQrLFiWx4JVeDUoot83dz9gp+VRWWPjbw0M4sDsMgNCwau7+3V56DShDFZ59dDB7vo3gzPNyuPb2g/ToW849V49m/65wn/8drlA77dnPEzaLSCTwEs4zoqXA1y1tJCJBwFqcrTo/4D1V/e33D/XkLBbljru28tBvpmLLDeHZ5z9nw1fdOZJe959cUhLA/OfPYOKkDF+E0Hx84uDhaV9wy/uXkFUayv+uWsiqtN6k5UfXlskoDuf/3ptFcWUgZ/Y6zG9nrOGa/13OocIofvL2T2vrWXnTG6w44NvfFIs4mHvhOu5482Kyi0N585ZFrNnbi4O59eItDOeWf19KSUUgk/qn8/Ala/n5y5dRVWNl9us/4niVP34WO6/c+CFfpvZkx9EEn8Z8Iu77LvuSu+dfRE5RKK/cs4gvdvbmUHZUbZnM/DDufP5HlBwPZMLgdH5zxVpu+fuPfRuXRbnjoX08dOvp2LICefadzWxYFcuRtNDaMmOm5JPc6zg3XzSeQSOKmfPwXu651jm0/22/SWXLl9E8ee8w/PwcBAY7B8k5vD+UJ+4Zzl2P7vVp/E3pyGc/W+x+quodqlroGrjtXODnrm5oSyqB6ao6EudN8OeLyIRTivYkBg7KJzOzG1nHulFTY2Ht6h5MnOyevIoKg9i/Nxq7ve0n0BqekEN6UQRHi8OpcVj5dF9/pvc95FZm27FEiiudvfrvshJJ6NZ4kOEJPTI4UhTBsZIwn8Y7NDmHI/nhZBSEU2O3snxHP6YNco/3uyOJlFQ4491+NIH48FLXGuF4lT8AflYHflZHm3VDTuuZw1FbOJn5zrg//6Y/U4a5x73jUCIlx51x7zycQHxkaRM1edfA4cVkpgeTdTTY+fn8NIGJZ9vcykw428aKxYmAsPe7CELDaoiKrSQ4tIZhowtZtigJgJoaC2Ulzvf3yMFQMg6F+Dz+JnXG7qeIjGpunapuba5iVVWcrToAf9fikz8zJvY4tpy6/1xbbgiDBuf5YlffS3y3MrJK6n6Vs0tDGZ548ikMLxu6m3WHejR6/YKBqSzZ298nMdYXH15GdnG32ufZxd0YlpJ90vKzRu3mq9Setc8t4uCt2xbSI7qId78exo4M37fSAOIiyskurIs7tzCU03qd/H2+ePwe1u/uedL13hITX4ktq/bCAWzZgQwaUexWJja+ktysQLcysfGV2O1CUYE/9zyxh74DS0ndFcb8pwZQefzUJ1A5FR25pdZc9/PpZtYpML2lyl0zK28B+gPPq+rGJsrcCtwKEOT//Y4JSBPvsLbTsCdNaXIesJN8KMamZHDZ0N38bIF7l8jPYmda30M8+9V47wfYQNPxNv1+jumdwaVn7OGmV2fVvuZQC9fMv4JuQZU8feUy+sXncyAnusntvaqpz8FJ3udR/TO4ZPweZj/X1Ny53tXUzG6N4jrJZ9hqVfoPKWX+Hwewd3sEt/1mPz+96TBvzmvnw9qd8Ziaqp59qpWrqh043XVM7n0RGaaqOxqUeRF4ESAiOOl75X9bbgix8eW1z2PjysnPC2pmi7aVXRpKYlhddzKhWxm5ZaGNyg2MzeP3M1Yz+8OLKKpwj39K73R258SSV+777kZ2cSgJ4XXdsoTwUmwljffbPyGPR360hrv+cyFFxxu/36UVgWw+1J1J/dPbJKnlFoaSUK87GRdZhq248fvcLymPB366ll+9dAHF5b7/nNiyA4lNrKh9HptQSX5OYIMyQcQlVrqVycsJAHVuv3d7BADrPovjipsO+zzmZrVj19ITbXKASVULgdXA+b6of9/eKLonl5KQWIafn4Op046w4avuvtjV97IjO56ekYUkhxfjZ7FzwcBUVqX1diuTGFbCsxct5YHlMzhcGNmojgsHprJk34A2iXdXZjw9YoroHlmMn9XOecMOsGZvg3gjSvjrlct45P3ppOfVxRsZcpxuQc4vZ6BfDeP7HuWQLYq2sPtIPClxRSRFO+M+54xU1u1wP8uYEFnCH29YzmNvn82R3MimK/KyfTvC6N7rOAnJx52fzwuy2bDafd7YjatimPGjLEAZNKKIslI/CmyBFOQFkpsVSHJv54/26eMLSD/QOFG3uc54TO1UiUgcUK2qhSISDJwDPOWLfTkcFl547gye+NNaLBZl+dI+pB+O4MKLDwCw5ON+REVV8Pd/fk5ISDUOFWZdtp/bbprJ8XJ/X4Tkxq4Wnlw9hX/N+hirKO/vGsyB/Gh+OnwnAO9uH8rt4zYTEVTBw2evdW7jsHDlOz8BIMivmok9j/DYyraZ78busPDnJWcy72efYBXlw28GkZYbzeVjnPEu3DyUW87aQkRwBXMv+qJ2m5+9eDmxYeU8NmslVosiony+sx9f7Gt4+YLv4v7bojN55tYlWC3Kx18P4mB2NLMm7gLgg/WnccN5WwkPqeC+y9e5thFueuZyn8blsFt44cmBPDH/WyxWZfn7SaQfCOXCK5wns5YsSGbTFzGMnZrPK0s2UFlh5ZmH6y5Jmv/HAdz/p134+TvIOhrMM484102cnsvtD+4nIqqK3/3zO9L2dOOR2af79G85QTrwIJGiPhr0SERGAK/jnM/PAryrqr9vbpuI4CSd2O9Gn8TjbWaGdt8KLO488XamGdrXFy6iqDr3lA6IBfbooSl33+NR2bRf37tFVcecyv5ay5PbpATncN59VfX3ItITSFTVZq9VU9XvgDOaK2MYRucj2rHPfnpyTO2fwETgatfzEuB5n0VkGEbH14GH8/bkmNp4VR0lIt8AqGqBa6o8wzB+qDpwS82TpFbtut5MofYEQAc+TGgYhq919u7nP4D3gXgR+QPOYYee9GlUhmF0XOo8++nJ0hIROV9E9opIqmvagIbrLxWR70Rkm4hsFpEzW6rTk3k//yMiW3AOPyTALFU1M7Qbxg+ZF1pqrh7g8zjvKT8KbBKRxaq6q16xFcBiVVXXFRXvAoMb11bHk7OfPYFy4KP6r6lqeuv/DMMwugTvdD/HAamqmgYgIu8AlwK1SU1V6484EOrJnj05pvYJdROwBAF9gL3AUE8jNwyja2nFMbVYEdlc7/mLrlsjAZKBI/XWHQUa3dwsIj8G/gjEAxe1tENPup/DG+xgFO4zSxmGYZyMrZmLb5scO6HRC6rv47x3fCrOWezOaW6Hrb730zXkUNsNZWoYRsfjnXs/jwL1x9hKATJPukvVtUA/EWn2dh5Pjqn9qt5TCzAKyG1pO8Mwuij12r2fm4ABItIHyACuAq6pX0BE+gMHXCcKRgEBQLODJXpyTK3+MKs1OI+xLWxF4IZhdDVeOFGgqjUiMgdYhvMe8VdVdaeIzHatnw9cDlwvItXAceBKbeGG9WaTmuuUazdV/fWp/wmGYXQFgvcuvlXVJTin3qz/2vx6j5+ilaP7NDect58rk550WG/DMH6gOvAdBc211L7Gefxsm4gsBhYAtcO3quoiH8dmGEZH1MFH6fDkmFo0zgNz06m7Xk0Bk9QM44eqA9/93VxSi3ed+dxBXTI7oQPnacMwfK2zttSsQDc8vEDOK+x2JL/IJ1V7W9S+thl331syp3Tc2X+aYu1e3nKhDqI6eFB7h+Cxmg+9NNFMJ01qx1oaftswjB+gDj6bVHNJrXP9tBuG0WY6a/dzRptFYRhG59IZk5qq5rdlIIZhdB4deYo8n837aRhGF9WJj6kZhmE0InTsA+4mqRmG0XqmpWYYRlfSWc9+GoZhNM0kNcMwugzvDRLpEyapGYbReqalZhhGV2KOqRmG0bWYpGYYRldiWmqGYXQdSqcdJNIwDKMRb0684gudOqmNnmTj1vv2YLEqy99PYcFrfRqUUG779V7GnJlLZYWVZ347jAN7wknuVcbcP31XWyoxuZy35vfnw7d7+SzWcacd4e6ffIXFonz85WD+89npbut7JhTywHWrGdjDxksfjeWdFSNr1/307O+4ePJeVCEtM5o/vnkWVTW+/a+bmpjOI6O+wirK/9IG86/dZ7itPyf5EPcM34RDBbsKj2+dxBZbEgGWGt6ZsZgAix2rRVl6pA9/39F2c18Hbysh+vUMxAEl06MpujS+yXIBB8rp/nAqOXf3pHxCZJvFBzBxQDr3XvQlFovy4eYhvL7W/b09f+Q+rp+6DYDjlf78afEU9mfFkhBRyu9+spKYbuWoCu9vGsI760e0aey1fshJzTXN3mYgQ1Uv9la9Foty+2928/Ado7FlB/HMWxvYsCaOIwe71ZYZM9lG955l3HLpmQwaXsSdD+ziVz+fQMbhUO66emJtPW8sXcNXq5r+8HslVnHwq5+u457nLiK3MJSX7n+fL7f34lBW3ei5xWWB/H3BJKaMPOS2bWxEGZdP28nPnriCqmo/Hrvpc2aMOcCnG3w32qpFHPxuzJf8fNVFZB0P5f1zF7EiozepxXXxfpWdzOcZvQBhUEQez03+nPOWXEmVw8p1qy6hvMYfP7Hzv3MWs+ZYT7blJfgs3loOJebVDLIe6kNNjD/dH0ylfHQ41SlBjcpFv32M4yPDmq7Hhyzi4P5L1jHn3xeTXRzK67cvYu3uXhzMja4tk1kQzm0vXUpJRSCTBqbz4Ky13DD/MmocwrOfTmRvZhwhAVW8cedCNqamuG3bVqT5qTfblaUN9nE3sNvblQ4cVkTm0RCyMkKoqbGwdlkiE6bluJWZMC2XlR93B4S92yMJDashKrbSrczIcXkcOxpC7rFgb4dYa0jvXDJyIziWF06N3cqKLf04c8QhtzKFpcHsSY+nxt74v8RqdRDoX4PV4iDIvwZbYajPYgUYGZ3D4ZJwjpSFU+2w8nF6f85Jdo+3vMafE7c1h/hVU/cZF9c68LM48BMHbfX5D0wtpzoxgJqEQPCzUDYpkpDNxY3KhS+1UTYuAnt423dUhqbkcCQ/nIwC52fhs+/6cdaQQ25lvktPpKQiEIDt6QnER5QCkFcSyt7MOADKqwI4lBtFXHgZbU5bsbQDnyY1EUkBLgJe9nbdMXEV2LLqfoFtOUHExLsnrJj4CnKzG5SJq3ArM3VmFmuWJXo7PDdxkWXkFNQlotzCUGIjPfsw2opCeefzEbz3xNt88ORblFYEsGlPiq9CBSAhuJxj5XUt3qzjoSQEN473vOSDLL/wf7w8dSlzvz6r9nWLOPho5nt8PesNvsxO5tv8NmilAdb8auwx/rXP7dH++OVXNyoTsqmYknNj2iSmhuLCy8guqntvs4u7ERdx8s/CpWN289W+no1eT4osZlCSjZ1H2+a9bUjUs6U9+Lql9ixwPz44VyIeTAfT9PAoda/6+TkYPzWXdZ+1wwdDPRu8pVtwJWeOOMyVj17NrAevIzigmvPG7vdpaOLhp3F5Rh/OW3Ils9edxz3DN9e+7lALlyz7CZMXX8fI6FwGRrTfeKMN3+aY1zMpuCYRLO0zeE5Tn1s9yWdhdJ8MfjR6D/OWTnB7PTigmqeuWc7fPplEWWWAL8JskTg8W9qDz5KaiFwM5KjqlhbK3Soim0Vkc5XjuMf123KCiE2sa3XFxleQlxvYqExcwsnLjJls48CecArz3bfzttzCUOKj6n6N4yLLsBWFeLTtmMEZHMsLo7A0GLvDwpptfRjWN9tXoQKQVR5KUkhp7fPE4DKyj5+8y7sptzs9uxUTFeD+/1dSHciGnCSmJh7xWaz12aP9sebVtcys+dXYo/zdygSklRP393RS5uwmdGMRsa9mELKp7WYwyykKJSGi7r1NCC/FVtz4s9A/IY+Hf7yG+946n6Ljdb0Nq8XOU9csY+m3A1i1q2+bxNykH2j3czLwIxE5BLwDTBeRtxoWUtUXVXWMqo4JsHh+XGvfznCSe5ST0L0cPz8HU2dmsXGN+8H+jWvimH5xJqAMGl5IWakfBba6BDb1fN93PQH2HI4jJb6IpJhi/Kx2Zow+wLrtnp1pzSnoxtA+OQT61wDK6EEZHM6K9Gm83+XH0zusiJTQYvwtdi7umcqKDPd4e3Ur4sSndmhULv4WOwVVQUQHHifM33kYINBaw+TEDA6U+DbeEyr7heCfVYVfThXUOAj9qpDy0eFuZY4+N4Sj85xL2fgIbDcmUz42ok3iA9iVEU/PmCK6Rzk/C+eOOMDaPb3dyiRElPDna5fx2/emk54XWW+N8shlaziUE8XbX46k3XjY9fSkwS8i54vIXhFJFZG5Tay/VkS+cy1fiUiLf7jPjpSq6gPAA67ApgH3qep13qrfYbfwwlODefz5rVgsymeLk0lP68YFlztbBZ8u7MGmdbGMOdPGyx+uc17S8buhtdsHBtk5Y3we8/4wxFshnZTdYeGZdyfz9J2fYrE4+GT9IA4di+bSM3cB8OG604gOL+el+98nNKgKhwpXnL2Dnz1xBbsOxbP6mz68MnchdoeF/UdjWPylb2O2q4XHtpzJa2ctwWJR3ksbxP7iaK7u54z3vwdOY2bKQX7cZx81DgsVdiu/+OocQIgLKucvE1ZhFcWC8smRfqzK9N2lMm6sQt4N3Ul8Mg0cUHJ2FNU9ggj7LA+g3Y6j1Wd3WPjzR2fyj//7BKsoi7cOIi0nmsvG7QRg0ddDuXn6FiJCKvjNj74AoMZh4ef/vJyRvbK46Ix97M+K5j9zFgDw/PJxfLWvjd7f+rzQCnNdGfE8cC5wFNgkIotVdVe9YgeBs1S1QEQuAF4Exjdbr7bBqal6Sa3ZSzoiAuJ1UuxPfR6PNxRP7N3eIbSKmczYdyKW+fZstDft+fAZymxHTunD0C2mhw674B6Pym78z71bVHVMU+tEZCLwO1Wd6Xr+AICq/vEk5aOAHaqa3Nw+2+SctqquBla3xb4Mw/A9cXjcGIoVkc31nr+oqi+6HicD9Q+4HqX5VthNwKct7bBT31FgGEY7aN1JANvJWmo0fYFCkzWLyNk4k9qZLe3QJDXDMFrNS5drHAV61HueAmQ22pfICJzXul6gqnktVdoWdxQYhtHVeOeSjk3AABHpIyIBwFXA4voFRKQnsAj4maru8yQ001IzDKPVvHG3gKrWiMgcYBlgBV5V1Z0iMtu1fj7wKBAD/FOcVy7XNNOdBUxSMwyjtRS8dUOvqi4BljR4bX69xzcDN7emTpPUDMNoNTOblGEYXYYZJNIwjK5F1WvdT18wSc0wjFYzLTXDMLoWk9QMw+hKTEvNMIyuQwF7x81qJqkZhtFqpqVmGEbXYs5+GobRlZiWmmEYXUc7zj/giQ6W1ASs1vYOwiNhK7w+lalP9SoZ0N4htErGtM4zmuymP7zQ3iF4bNzm3FOuQwAxJwoMw+hKOvIM7SapGYbROqb7aRhG12Lu/TQMo4sxZz8Nw+haTEvNMIwuQ83ZT8MwupqOm9NMUjMMo/XMJR2GYXQtJqkZhtFlKGAmXjEMo6sQ1HQ/DcPoYhwdt6lmkpphGK1jup+GYXQ1Hbn7aWnvAAzD6IROzP3Z0tICETlfRPaKSKqIzG1i/WARWS8ilSJynyehmZaaYRit5J0b2kXECjwPnAscBTaJyGJV3VWvWD7wC2CWp/WalpphGK1zYjYpT5bmjQNSVTVNVauAd4BL3XalmqOqm4BqT8PrdC210RNzufXe3VgsyvIPU1jwer8GJZTb7t3NmMm5VFZYeeax4RzYG0Fyr1LmPrmttlRi93LeenEAH/63D9fcsp+Zs45QXBgAwOvPD2TzV/GnHuuZ+dz2UBoWi7LsvUQWvNSjcawPpTF2aj6VFRb+9sAgDuzqBsC/V3zN8TIrdrvgsAt3/+QMAK6dc5iZV2RRlO/vjPWZ3mxeG33KsTY0dvhR5ly3AYtFWbJmIP/9eKTb+h5Jhdx/yxcM6JXHq++N5t1Ph9euCw2p5L4bv6RPSgEK/OXlKexKPfX382SmJKfz0IQvsYiyYN8QXvruDLf1M3oe5O5Rm3CoYFcLT26cxJbsJACePHMV03ocJq8imEvev9JnMda3aVUY8x9Jxu4QLrg6jyvvymlU5tuvujH/0WRqaiAi2s5fF6XWrrPb4a7zBxKTVM3jbxxsk5gb8tIxtWTgSL3nR4Hxp1qpT5OaiBwCSgA7UKOqY06lPotFuf3+nTw8Zxy27CCeef0rNqyN58jBsNoyYybl0r1nGbdcNpVBwwq5c+5OfnXDJDIOd+Oua8+sreeNJSv5alVi7XYf/rc3i97qeyrhNYr1jkcP8NCNw7BlB/Lsgm1sWBnNkQN1w1SPmVpAcq/j3DxzDINGljDnt6ncc+XptevnXj+C4kL/RnV/8Hoyi15N8VqsjWIXB3dfv55f/3kmufmhvPDYYr7a2pPDmVG1ZUpKA5n35gQmjz7caPs5121k0/ZkHps3HT+rncDAGp/G+ujEddyw7GKyy0J570eLWJneiwOFdYl+fWYKK9J7A8KgqDyePfszLlh0FQCL9g/ird3DeGrqSp/FWJ/dDs8/mMIf3zlAbFI1d104kAkzi+g1sLK2TGmRlXkPpPCH/xwgPqWaQpv71/SDl+PoMaCS8tJ27Gh5ntRiRWRzvecvquqLrsfSVM2nFBdt0/08W1VPP9WEBjBwaCGZR0LJygihpsbC2s+SmHCW+6/chLNyWPlJMiDs3RFFaFgNUTEVbmVGjrVx7GgIuVnBpxrSyWMdUUJmehBZR4OpqbawdkkcE2fku8c6I48VH8Y7Y/02nNDwGqLiqnwWk6cG97ORkRPOsdxwauxWVm7oy6RR6W5lCkuC2XswDrvd/SMUElTFiEFZLFkzEIAau5Wy8kCfxToiNofDxeEcLQmn2mHlk7R+zOh5yK1MeY0/J74/wX7Vbt+azdndKar0XXwN7f0mhO69K0nqVYV/gDLt0gLWL4twK7Pq/UgmX1hIfIqzxxUZW/ejkJvpz9crwrngmrw2i7kRBRzq2QI2VR1Tb3mxXk1HgfrdlxQg81TD61Tdz5i4CmzZQbXPbdlBDBpW2KhMbv0yOUHExFdSkFf32tTzjrFmWXe37S6+Ip3pF2ayf3c4rzw7hNKSxi2kVsWaUIntWN2XxZYVwKCRJW5lYhOqyG1QJjahkoLcAFThiVe2owif/i+Rpe8m1Za75NpMZlyazf4dYbz8VB9Ki08t1oZio8rIyatrUdryQxnSz7MJO5LiSygqDuL+W76gX8989h2M5fm3xlNR5d0YT0gILSOrrFvt8+yyboyIy25U7pxeB7l39Eaig49z2/ILfBKLJ/Ky/InrXnd4KDapmj1bQ9zKHE0Lwl4Nv768P+WlFmbdnMu5VxQAMP+3ydz8cCblpe05QZHXRr7dBAwQkT5ABnAVcM2pVurrlpoCy0Vki4jc2lQBEblVRDaLyOYqx/FmK5MmG6viQZm6h35+DsZPzWHdirqu55KFPbn5x2dx17WTKbAFcdMvT32mqCbDaPQ5aPzBOFHmvmtG8ovLR/HoLUO5+JpjDBtTBMAn/03ipnPHMmfWKPJzA7j5N94/pnIqfQKrVRnQO4/FKwZz2yOzqKj04+pLvvNmeG6ajrXxq58f7sMFi67izs9ncvfoTT6LpyVN5YKGn1l7DezfHsLjb6bx5NsHePvZRI4eCGTDZ+FExtYwYETz35M24YVLOlS1BpgDLAN2A++q6k4RmS0iswFEJFFEjgK/Ah4WkaMiEt5cvb5OapNVdRRwAXCniExtWEBVXzzRNA2wNN8dtOUEEZtQ15WMTaggzxbYqExc/TLxFeTl1pUZMymXA3vCKcyve60wPxCHQ1AVln6QwsChRa39OxvHmh1IbFLdcZLYxCrycwIblYlrUCbPVeZE2aL8ANZ/HsPAEc5WXmFeQF2sCxIZONy99ecNuQWhxMeU1cUVXYatIKSZLeptmx9Cbn4oe9KcJwbWburNgF6+6ypllYWSGFpa+zwhtJSc8pPHujm7Oz3DiokKbJ/EEJtUTW5mXavVdsyfmET3E3txSdWMmVZCUIiDiBg7w8eXkrYriF2bQtmwPJzrx53GH2/vxbfrwnhqTs+2/hNcZz8dni0tVaW6RFUHqmo/Vf2D67X5qjrf9ThLVVNUNVxVI12Pi5ur06dJTVUzXf/mAO/jPIX7ve3bFUFyzzISupfj5+dg6rnH2LjW/azaxrXxTL8oA1AGDSugrNTPves58xhrlrt3Pesfc5s0LZvDB8I4Vfu2h9G9VwUJyRX4+TuYemEuG1a6n6XcuDKGGZfmOGMdWUxZiZWC3AACg+0EhzqPowQG2zljcgGH9zm/qPWPuU06J4/D+z1LNq2xJy2W5IQiEmNL8LPamT4hjfXfePblKSgKISc/lB6Jzh+GUUMzOZwZ6fUYT9hui6d3RBEp3Yrxt9i5qO8BVqb3divTM6yIE23N02Jy8bfYKagMalxZGxh0ejkZBwPJSg+gukpY/WEUE85z/45OPL+IHV+HYq+BinJhzzch9BxQyY0PHuM/W3bxxte7eOCFw4w8s4TfzEs/yZ58SUEdni3twGfH1EQkFLCoaonr8XnA70+lTofdwgt/Po3H/7EJi1X5bHEK6WlhXHCZ8z/200U92fRlHGMm5/Ly+2ucl3T8fkTt9oGBds4YZ2Pek0Pd6r3xF3vpO7AYVSHnWDDPNVj//WIVXni8H0+8ssN5+cnCBNJTQ7nwymMALPlfEpvWRDF2aj6vLN9MZYWFZx50HlyPiqni4XnOLrDVqqz+OI4t65wJ8ab7DtJ3SCmqkJ0RxHO/9f4kxQ6HhefemMhT9y/DKsqnawdwKCOKS87eA8BHqwYTFVHO/McWExJcjTqEy2fu5Ia5l1FeEcBzb07gwdtX42d1cCw3jD+/NMXrMZ5gVwu/X38mL8/8BKsoC/cPIrUwmqsG7QTgnb1Dmdk7jUv776PGYaHC7sc9q8/lRMf16WmfMy4xk6igCtZc+SbPbR3De/uH+Cxeqx/c+YejPHhNXxx24byr8uk9qIKP34gB4OLr8+g5oJIx04qZPWMwYlHOvyaf3oMrWqi5jXXg26REfRSciPTF2ToDZ/J8+0Tz8mQiAhJ0UsJVPonH27SktOVCHUjFuM42Q3tAe4fgsb03dqIZ2mceYfO3FU0divRYRECCTkq82qOyS4/8fYs3rnxoDZ+11FQ1DRjZYkHDMDqfDtxS61SXdBiG0UGYpGYYRpeh6rw1ooMySc0wjNYzLTXDMLoUk9QMw+g6au/r7JBMUjMMo3UUtJ0urPWESWqGYbSeB7dAtReT1AzDaB1VM0WeYRhdjDlRYBhGV6KmpWYYRtfhtUEifcIkNcMwWufEcN4dlElqhmG0igJqbpMyDKPLUG23ASA9YZKaYRitpqb7aRhGl9KBW2o+G/n2+xCRXKDx7LinJhaweblOX+pM8XamWKFzxeurWHupatypVCAiS3HG5wmbqp5/KvtrrQ6V1HxBRDa39XDCp6IzxduZYoXOFW9nirWjacd56w3DMLzPJDXDMLqUH0JSe7G9A2ilzhRvZ4oVOle8nSnWDqXLH1MzDOOH5YfQUjMM4wfEJDXDMLqULpvURORVEckRkR3tHUtLRKSHiKwSkd0islNE7m7vmJojIkEi8rWIfOuK97H2jqklImIVkW9E5OP2jqUlInJIRLaLyDYR2dze8XQ2XfaYmohMBUqBN1R1WHvH0xwRSQKSVHWriIQBW4BZqrqrnUNrkogIEKqqpSLiD6wD7lbVDe0c2kmJyK+AMUC4ql7c3vE0R0QOAWNUtbNcKNyhdNmWmqquBfLbOw5PqOoxVd3qelwC7AaS2zeqk1OnUtdTf9fSYX8dRSQFuAh4ub1jMXyvyya1zkpEegNnABvbOZRmubpz24Ac4DNV7cjxPgvcD3TcGxbdKbBcRLaIyK3tHUxnY5JaByIi3YCFwC9Vtbi942mOqtpV9XQgBRgnIh2yiy8iFwM5qrqlvWNphcmqOgq4ALjTdSjF8JBJah2E69jUQuA/qrqovePxlKoWAquBNr1puRUmAz9yHad6B5guIm+1b0jNU9VM1785wPvAuPaNqHMxSa0DcB14fwXYrap/a+94WiIicSIS6XocDJwD7GnXoE5CVR9Q1RRV7Q1cBaxU1evaOayTEpFQ18kiRCQUOA/o8GfwO5Ium9RE5L/AemCQiBwVkZvaO6ZmTAZ+hrMVsc21XNjeQTUjCVglIt8Bm3AeU+vwl0p0EgnAOhH5Fvga+ERVl7ZzTJ1Kl72kwzCMH6Yu21IzDOOHySQ1wzC6FJPUDMPoUkxSMwyjSzFJzTCMLsUktU5EROyuyz12iMgCEQk5hbpeE5GfuB6/LCKnNVN2mohM+h77OCQijWYdOtnrDcqUNre+ifK/E5H7Whuj0fWYpNa5HFfV012jjlQBs+uvFBHr96lUVW9uYUSQaUCrk5phtAeT1DqvL4D+rlbUKhF5G9juutH8LyKySUS+E5HbwHnXgojME5FdIvIJEH+iIhFZLSJjXI/PF5GtrrHSVrhusJ8N3ONqJU5x3VGw0LWPTSIy2bVtjIgsd41b9i9AWvojROQD143bOxvevC0iT7tiWSEica7X+onIUtc2X4jIYK+8m0aXYWZo74RExA/nzc4nrjQfBwxT1YOuxFCkqmNFJBD4UkSW4xz5YxAwHOdV67uAVxvUGwe8BEx11RWtqvkiMh8oVdW/usq9DTyjqutEpCewDBgC/BZYp6q/F5GLAE9GmLjRtY9gYJOILFTVPCAU2Kqq94rIo6665+CckGS2qu4XkfHAP4Hp3+NtNLook9Q6l2DXcD/gbKm9grNb+LWqHnS9fh4w4sTxMiACGABMBf6rqnYgU0RWNlH/BGDtibpU9WTj0Z0DnOa8ZRWAcNf9ilOBy1zbfiIiBR78Tb8QkR+7HvdwxZqHc5ig/7lefwtY5BrFZBKwoN6+Az3Yh/EDYpJa53LcNdxPLdeXu6z+S8BdqrqsQbkLaXkgR/GgDDgPW0xU1eNNxOLxfXciMg1ngpyoquUishoIOklxde23sOF7YBj1mWNqXc8y4HbXUEaIyEDXaA9rgatcx9ySgLOb2HY9cJaI9HFtG+16vQQIq1duOc6uIK5yp7sergWudb12ARDVQqwRQIEroQ3G2VI8wQKcaG1eg7NbWwwcFJErXPsQERnZwj6MHxiT1Lqel3EeL9sqzkln/oWzRf4+sB/YDrwArGm4oarm4jwOtsg1SsSJ7t9HwI9PnCgAfgGMcZ2I2EXdWdjHgKkishVnNzi9hViXAn6u0T4eB+rPcVAGDBWRLTiPmf3e9fq1wE2u+HYCl3rwnhg/IGaUDsMwuhTTUjMMo0sxSc0wjC7FJDXDMLoUk9QMw+hSTFIzDKNLMUnNMIwuxSQ1wzC6lP8HoCx4gdIuai8AAAAASUVORK5CYII=\n",
      "text/plain": [
       "<Figure size 432x288 with 2 Axes>"
      ]
     },
     "metadata": {
      "needs_background": "light"
     },
     "output_type": "display_data"
    }
   ],
   "source": [
    "##Import all machine learning functions\n",
    "from sklearn.model_selection import train_test_split\n",
    "from sklearn.metrics import confusion_matrix,classification_report\n",
    "from sklearn.feature_extraction.text import TfidfVectorizer\n",
    "from sklearn.metrics import plot_confusion_matrix\n",
    "from sklearn.svm import LinearSVC\n",
    "from sklearn.pipeline import Pipeline\n",
    "from sklearn import metrics\n",
    "from sklearn.metrics import precision_score\n",
    "from sklearn.metrics import recall_score\n",
    "from sklearn.metrics import f1_score\n",
    "from sklearn.metrics import accuracy_score\n",
    "from sklearn.metrics import roc_auc_score\n",
    "\n",
    "## LinearSVC\n",
    "p = table[\"body\"]\n",
    "q = table[\"rating\"]\n",
    "\n",
    "## Split dataset into testing and training sets with stratify flag to balance dataset\n",
    "pTrain, pTest, qTrain, qTest = train_test_split(p,q,test_size=0.20,random_state=42,stratify=q)\n",
    "\n",
    "##Train and test model\n",
    "clf = Pipeline([('tfidf',TfidfVectorizer()),('clf',LinearSVC())])\n",
    "clf.fit(pTrain,qTrain)\n",
    "predict = clf.predict(pTest)\n",
    "\n",
    "##Display raw evaluation metrics and collect data for \n",
    "print(confusion_matrix(qTest,predict))\n",
    "plot_confusion_matrix(clf, pTest, qTest,normalize='pred')\n",
    "print(classification_report(qTest,predict))\n",
    "linearAcc = metrics.accuracy_score(qTest,predict)\n",
    "report = classification_report(qTest,predict,output_dict=True)\n",
    "linearMacroPrecision =  report['weighted avg']['precision'] \n",
    "linearMacroRecall = report['weighted avg']['recall']    \n",
    "linearMacroF1 = report['weighted avg']['f1-score']"
   ]
  },
  {
   "cell_type": "code",
   "execution_count": 11,
   "id": "7f2d1020",
   "metadata": {},
   "outputs": [
    {
     "name": "stdout",
     "output_type": "stream",
     "text": [
      "[[284  42  50  47  76]\n",
      " [ 66  19  36  28  39]\n",
      " [ 52  22  54  70 102]\n",
      " [ 45  29  65 187 311]\n",
      " [ 74  30  64 240 833]]\n",
      "              precision    recall  f1-score   support\n",
      "\n",
      "           1       0.55      0.57      0.56       499\n",
      "           2       0.13      0.10      0.12       188\n",
      "           3       0.20      0.18      0.19       300\n",
      "           4       0.33      0.29      0.31       637\n",
      "           5       0.61      0.67      0.64      1241\n",
      "\n",
      "    accuracy                           0.48      2865\n",
      "   macro avg       0.36      0.36      0.36      2865\n",
      "weighted avg       0.46      0.48      0.47      2865\n",
      "\n"
     ]
    },
    {
     "data": {
      "image/png": "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\n",
      "text/plain": [
       "<Figure size 432x288 with 2 Axes>"
      ]
     },
     "metadata": {
      "needs_background": "light"
     },
     "output_type": "display_data"
    }
   ],
   "source": [
    "from sklearn.tree import DecisionTreeClassifier\n",
    "## Decision Tree Classifier\n",
    "p = table[\"body\"]\n",
    "q = table[\"rating\"]\n",
    "\n",
    "## Split dataset into testing and training sets with stratify flag to balance dataset\n",
    "pTrain, pTest, qTrain, qTest = train_test_split(p,q,test_size=0.20,random_state=42,stratify=q)\n",
    "\n",
    "##Train and test model\n",
    "clf = Pipeline([('tfidf',TfidfVectorizer()),('clf',DecisionTreeClassifier())])\n",
    "clf.fit(pTrain,qTrain)\n",
    "predict = clf.predict(pTest)\n",
    "\n",
    "##Display raw evaluation metrics and collect data for\n",
    "print(confusion_matrix(qTest,predict))\n",
    "plot_confusion_matrix(clf, pTest, qTest,normalize='pred')\n",
    "print(classification_report(qTest,predict))\n",
    "desTreeAcc = metrics.accuracy_score(qTest,predict)\n",
    "report = classification_report(qTest,predict,output_dict=True)\n",
    "desTreeMacroPrecision =  report['weighted avg']['precision'] \n",
    "desTreeMacroRecall = report['weighted avg']['recall']    \n",
    "desTreeMacroF1 = report['weighted avg']['f1-score']"
   ]
  },
  {
   "cell_type": "code",
   "execution_count": 12,
   "id": "6d4e0b91",
   "metadata": {},
   "outputs": [
    {
     "name": "stdout",
     "output_type": "stream",
     "text": [
      "[[ 283    0    0   12  204]\n",
      " [  56    0    0    8  124]\n",
      " [  33    0    1   35  231]\n",
      " [  20    0    2   36  579]\n",
      " [  14    0    0   17 1210]]\n",
      "              precision    recall  f1-score   support\n",
      "\n",
      "           1       0.70      0.57      0.63       499\n",
      "           2       0.00      0.00      0.00       188\n",
      "           3       0.33      0.00      0.01       300\n",
      "           4       0.33      0.06      0.10       637\n",
      "           5       0.52      0.98      0.67      1241\n",
      "\n",
      "    accuracy                           0.53      2865\n",
      "   macro avg       0.38      0.32      0.28      2865\n",
      "weighted avg       0.45      0.53      0.42      2865\n",
      "\n"
     ]
    },
    {
     "name": "stderr",
     "output_type": "stream",
     "text": [
      "C:\\Users\\epicc\\anaconda3\\lib\\site-packages\\sklearn\\metrics\\_classification.py:1248: UndefinedMetricWarning: Precision and F-score are ill-defined and being set to 0.0 in labels with no predicted samples. Use `zero_division` parameter to control this behavior.\n",
      "  _warn_prf(average, modifier, msg_start, len(result))\n",
      "C:\\Users\\epicc\\anaconda3\\lib\\site-packages\\sklearn\\metrics\\_classification.py:1248: UndefinedMetricWarning: Precision and F-score are ill-defined and being set to 0.0 in labels with no predicted samples. Use `zero_division` parameter to control this behavior.\n",
      "  _warn_prf(average, modifier, msg_start, len(result))\n",
      "C:\\Users\\epicc\\anaconda3\\lib\\site-packages\\sklearn\\metrics\\_classification.py:1248: UndefinedMetricWarning: Precision and F-score are ill-defined and being set to 0.0 in labels with no predicted samples. Use `zero_division` parameter to control this behavior.\n",
      "  _warn_prf(average, modifier, msg_start, len(result))\n",
      "C:\\Users\\epicc\\anaconda3\\lib\\site-packages\\sklearn\\metrics\\_classification.py:1248: UndefinedMetricWarning: Precision and F-score are ill-defined and being set to 0.0 in labels with no predicted samples. Use `zero_division` parameter to control this behavior.\n",
      "  _warn_prf(average, modifier, msg_start, len(result))\n",
      "C:\\Users\\epicc\\anaconda3\\lib\\site-packages\\sklearn\\metrics\\_classification.py:1248: UndefinedMetricWarning: Precision and F-score are ill-defined and being set to 0.0 in labels with no predicted samples. Use `zero_division` parameter to control this behavior.\n",
      "  _warn_prf(average, modifier, msg_start, len(result))\n",
      "C:\\Users\\epicc\\anaconda3\\lib\\site-packages\\sklearn\\metrics\\_classification.py:1248: UndefinedMetricWarning: Precision and F-score are ill-defined and being set to 0.0 in labels with no predicted samples. Use `zero_division` parameter to control this behavior.\n",
      "  _warn_prf(average, modifier, msg_start, len(result))\n"
     ]
    },
    {
     "data": {
      "image/png": "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\n",
      "text/plain": [
       "<Figure size 432x288 with 2 Axes>"
      ]
     },
     "metadata": {
      "needs_background": "light"
     },
     "output_type": "display_data"
    }
   ],
   "source": [
    "from sklearn.naive_bayes import MultinomialNB\n",
    "## Naive Bayes\n",
    "\n",
    "p = table[\"body\"]\n",
    "q = table[\"rating\"]\n",
    "## Split dataset into testing and training sets with stratify flag to balance dataset\n",
    "pTrain, pTest, qTrain, qTest = train_test_split(p,q,test_size=0.20,random_state=42,stratify=q)\n",
    "\n",
    "##Train and test model\n",
    "clf = Pipeline([('tfidf',TfidfVectorizer()),('clf',MultinomialNB())])\n",
    "clf.fit(pTrain,qTrain)\n",
    "predict = clf.predict(pTest)\n",
    "\n",
    "##Display raw evaluation metrics and collect data for\n",
    "print(confusion_matrix(qTest,predict))\n",
    "plot_confusion_matrix(clf, pTest, qTest,normalize='pred')\n",
    "print(classification_report(qTest,predict))\n",
    "NBAcc = metrics.accuracy_score(qTest,predict)\n",
    "report = classification_report(qTest,predict,output_dict=True)\n",
    "NBMacroPrecision =  report['weighted avg']['precision'] \n",
    "NBMacroRecall = report['weighted avg']['recall']    \n",
    "NBMacroF1 = report['weighted avg']['f1-score']"
   ]
  },
  {
   "cell_type": "code",
   "execution_count": 13,
   "id": "df66bb50",
   "metadata": {},
   "outputs": [
    {
     "name": "stdout",
     "output_type": "stream",
     "text": [
      "[[ 361    7   20   20   91]\n",
      " [  93    6   14   18   57]\n",
      " [  60    7   41   76  116]\n",
      " [  33    2   39  171  392]\n",
      " [  34    0   16  103 1088]]\n",
      "              precision    recall  f1-score   support\n",
      "\n",
      "           1       0.62      0.72      0.67       499\n",
      "           2       0.27      0.03      0.06       188\n",
      "           3       0.32      0.14      0.19       300\n",
      "           4       0.44      0.27      0.33       637\n",
      "           5       0.62      0.88      0.73      1241\n",
      "\n",
      "    accuracy                           0.58      2865\n",
      "   macro avg       0.45      0.41      0.40      2865\n",
      "weighted avg       0.53      0.58      0.53      2865\n",
      "\n"
     ]
    },
    {
     "data": {
      "image/png": "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\n",
      "text/plain": [
       "<Figure size 432x288 with 2 Axes>"
      ]
     },
     "metadata": {
      "needs_background": "light"
     },
     "output_type": "display_data"
    }
   ],
   "source": [
    "from sklearn.linear_model import LogisticRegression\n",
    "from numpy import mean\n",
    "from numpy import std\n",
    "from sklearn.datasets import make_classification\n",
    "from sklearn.model_selection import KFold\n",
    "from sklearn.model_selection import cross_val_score\n",
    "## Logistic Regression\n",
    "\n",
    "p = table[\"body\"]\n",
    "q = table[\"rating\"]\n",
    "\n",
    "## Split dataset into testing and training sets with stratify flag to balance dataset\n",
    "pTrain, pTest, qTrain, qTest = train_test_split(p,q,test_size=0.20,random_state=42,stratify=q)\n",
    "\n",
    "##Train and test model\n",
    "clf = Pipeline([('tfidf',TfidfVectorizer()),('clf',LogisticRegression(max_iter=1500))])\n",
    "clf.fit(pTrain,qTrain)\n",
    "predict = clf.predict(pTest)\n",
    "\n",
    "##Display raw evaluation metrics and collect data for\n",
    "print(confusion_matrix(qTest,predict))\n",
    "plot_confusion_matrix(clf, pTest, qTest,normalize='pred')\n",
    "print(classification_report(qTest,predict))\n",
    "logAcc = metrics.accuracy_score(qTest,predict)\n",
    "report = classification_report(qTest,predict,output_dict=True)\n",
    "logMacroPrecision =  report['weighted avg']['precision'] \n",
    "logMacroRecall = report['weighted avg']['recall']    \n",
    "logMacroF1 = report['weighted avg']['f1-score']"
   ]
  },
  {
   "cell_type": "code",
   "execution_count": 14,
   "id": "7926b577",
   "metadata": {},
   "outputs": [
    {
     "name": "stdout",
     "output_type": "stream",
     "text": [
      "[[ 374    2   16   16   91]\n",
      " [ 103    5   14   14   52]\n",
      " [  66    0   19   56  159]\n",
      " [  37    1   18  126  455]\n",
      " [  47    4   27   88 1075]]\n",
      "              precision    recall  f1-score   support\n",
      "\n",
      "           1       0.60      0.75      0.66       499\n",
      "           2       0.42      0.03      0.05       188\n",
      "           3       0.20      0.06      0.10       300\n",
      "           4       0.42      0.20      0.27       637\n",
      "           5       0.59      0.87      0.70      1241\n",
      "\n",
      "    accuracy                           0.56      2865\n",
      "   macro avg       0.44      0.38      0.36      2865\n",
      "weighted avg       0.50      0.56      0.49      2865\n",
      "\n"
     ]
    },
    {
     "data": {
      "image/png": "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\n",
      "text/plain": [
       "<Figure size 432x288 with 2 Axes>"
      ]
     },
     "metadata": {
      "needs_background": "light"
     },
     "output_type": "display_data"
    }
   ],
   "source": [
    "from sklearn.ensemble import RandomForestClassifier\n",
    "## Random Forest\n",
    "\n",
    "p = table[\"body\"]\n",
    "q = table[\"rating\"]\n",
    "\n",
    "## Split dataset into testing and training sets with stratify flag to balance dataset\n",
    "pTrain, pTest, qTrain, qTest = train_test_split(p,q,test_size=0.20,random_state=42,stratify=q)\n",
    "\n",
    "##Train and test model\n",
    "clf = Pipeline([('tfidf',TfidfVectorizer()),('clf',RandomForestClassifier())])\n",
    "clf.fit(pTrain,qTrain)\n",
    "predict = clf.predict(pTest)\n",
    "\n",
    "##Display raw evaluation metrics and collect data for\n",
    "print(confusion_matrix(qTest,predict))\n",
    "plot_confusion_matrix(clf, pTest, qTest,normalize='pred')\n",
    "print(classification_report(qTest,predict))\n",
    "forestAcc = metrics.accuracy_score(qTest,predict)\n",
    "report = classification_report(qTest,predict,output_dict=True)\n",
    "forestMacroPrecision =  report['weighted avg']['precision'] \n",
    "forestMacroRecall = report['weighted avg']['recall']    \n",
    "forestMacroF1 = report['weighted avg']['f1-score']"
   ]
  },
  {
   "cell_type": "code",
   "execution_count": 15,
   "id": "3cae86ee",
   "metadata": {},
   "outputs": [
    {
     "data": {
      "image/png": "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\n",
      "text/plain": [
       "<Figure size 432x288 with 1 Axes>"
      ]
     },
     "metadata": {
      "needs_background": "light"
     },
     "output_type": "display_data"
    },
    {
     "name": "stdout",
     "output_type": "stream",
     "text": [
      "Linear Decision Naive Logistic Forest\n",
      "0.5584642233856894 0.4806282722513089 0.5340314136125655 0.5818499127399651 0.5581151832460733\n"
     ]
    }
   ],
   "source": [
    "## Plot accuracy bar graph\n",
    "fig = plt.figure()\n",
    "ax = fig.add_axes([0,0,1,1])\n",
    "models = ['LinearSVC','Decision Tree','Naive Bayes','Log Regression','Random Forest']\n",
    "data = [linearAcc,desTreeAcc,NBAcc,logAcc,forestAcc]\n",
    "ax.bar(models,data)\n",
    "plt.title('Accuracy Comparison')\n",
    "plt.ylabel(\"Percentage Accuracy\")\n",
    "plt.show()\n",
    "\n",
    "##Print raw table data\n",
    "print(\"Linear Decision Naive Logistic Forest\")\n",
    "print(linearAcc,desTreeAcc,NBAcc,logAcc,forestAcc)"
   ]
  },
  {
   "cell_type": "code",
   "execution_count": 16,
   "id": "7525658f",
   "metadata": {},
   "outputs": [
    {
     "data": {
      "image/png": "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\n",
      "text/plain": [
       "<Figure size 432x288 with 1 Axes>"
      ]
     },
     "metadata": {
      "needs_background": "light"
     },
     "output_type": "display_data"
    },
    {
     "name": "stdout",
     "output_type": "stream",
     "text": [
      "Linear Decision Naive Logistic Forest\n",
      "0.499815839168699 0.4625443838940006 0.45364248297600257 0.5273576095684561 0.4999537981647292\n"
     ]
    }
   ],
   "source": [
    "## Plot Precision bar graph\n",
    "fig = plt.figure()\n",
    "ax = fig.add_axes([0,0,1,1])\n",
    "models = ['LinearSVC','Decision Tree','Naive Bayes','Log Regression','Random Forest']\n",
    "data = [linearMacroPrecision,desTreeMacroPrecision,NBMacroPrecision,logMacroPrecision,forestMacroPrecision]\n",
    "ax.bar(models,data)\n",
    "plt.title('Precision Comparison')\n",
    "plt.ylabel(\"Percentage Accuracy\")\n",
    "plt.show()\n",
    "\n",
    "##Print raw table data\n",
    "print(\"Linear Decision Naive Logistic Forest\")\n",
    "print(linearMacroPrecision,desTreeMacroPrecision,NBMacroPrecision,logMacroPrecision,forestMacroPrecision)"
   ]
  },
  {
   "cell_type": "code",
   "execution_count": 17,
   "id": "369b9e66",
   "metadata": {},
   "outputs": [
    {
     "data": {
      "image/png": "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\n",
      "text/plain": [
       "<Figure size 432x288 with 1 Axes>"
      ]
     },
     "metadata": {
      "needs_background": "light"
     },
     "output_type": "display_data"
    },
    {
     "name": "stdout",
     "output_type": "stream",
     "text": [
      "Linear Decision Naive Logistic Forest\n",
      "0.5584642233856894 0.4806282722513089 0.5340314136125655 0.5818499127399651 0.5581151832460733\n"
     ]
    }
   ],
   "source": [
    "## Plot Recall bar graph\n",
    "fig = plt.figure()\n",
    "ax = fig.add_axes([0,0,1,1])\n",
    "models = ['LinearSVC','Decision Tree','Naive Bayes','Log Regression','Random Forest']\n",
    "data = [linearMacroRecall,desTreeMacroRecall,NBMacroRecall,logMacroRecall,forestMacroRecall]\n",
    "ax.bar(models,data)\n",
    "plt.title('Recall Comparison')\n",
    "plt.ylabel(\"Percentage Accuracy\")\n",
    "plt.show()\n",
    "\n",
    "##Print raw table data\n",
    "print(\"Linear Decision Naive Logistic Forest\")\n",
    "print(linearMacroRecall,desTreeMacroRecall,NBMacroRecall,logMacroRecall,forestMacroRecall)"
   ]
  },
  {
   "cell_type": "code",
   "execution_count": 18,
   "id": "9093d51c",
   "metadata": {},
   "outputs": [
    {
     "data": {
      "image/png": "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\n",
      "text/plain": [
       "<Figure size 432x288 with 1 Axes>"
      ]
     },
     "metadata": {
      "needs_background": "light"
     },
     "output_type": "display_data"
    },
    {
     "name": "stdout",
     "output_type": "stream",
     "text": [
      "Linear Decision Naive Logistic Forest\n",
      "0.5170448825767922 0.47054176579226203 0.42317940724405 0.5301030940884716 0.4919342609515005\n"
     ]
    }
   ],
   "source": [
    "## Plot F1 Score bar graph\n",
    "fig = plt.figure()\n",
    "ax = fig.add_axes([0,0,1,1])\n",
    "models = ['LinearSVC','Decision Tree','Naive Bayes','Log Regression','Random Forest']\n",
    "data = [linearMacroF1,desTreeMacroF1,NBMacroF1,logMacroF1,forestMacroF1]\n",
    "ax.bar(models,data)\n",
    "plt.title('F1 Score Comparison')\n",
    "plt.ylabel(\"Percentage Accuracy\")\n",
    "plt.show()\n",
    "\n",
    "##Print raw table data\n",
    "print(\"Linear Decision Naive Logistic Forest\")\n",
    "print(linearMacroF1, desTreeMacroF1 , NBMacroF1,logMacroF1 , forestMacroF1)"
   ]
  },
  {
   "cell_type": "code",
   "execution_count": null,
   "id": "c1ba75dd",
   "metadata": {},
   "outputs": [],
   "source": []
  }
 ],
 "metadata": {
  "kernelspec": {
   "display_name": "Python 3 (ipykernel)",
   "language": "python",
   "name": "python3"
  },
  "language_info": {
   "codemirror_mode": {
    "name": "ipython",
    "version": 3
   },
   "file_extension": ".py",
   "mimetype": "text/x-python",
   "name": "python",
   "nbconvert_exporter": "python",
   "pygments_lexer": "ipython3",
   "version": "3.9.7"
  }
 },
 "nbformat": 4,
 "nbformat_minor": 5
}
